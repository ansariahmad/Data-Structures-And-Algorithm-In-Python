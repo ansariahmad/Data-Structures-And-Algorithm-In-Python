{
 "cells": [
  {
   "cell_type": "markdown",
   "metadata": {},
   "source": [
    "## 34-Find First and Last Position of Element in Sorted Array"
   ]
  },
  {
   "cell_type": "code",
   "execution_count": 10,
   "metadata": {},
   "outputs": [],
   "source": [
    "def searchRange(nums: list[int], target: int) -> list[int]:\n",
    "    first = last = -1\n",
    "    low = 0\n",
    "    high = len(nums)-1\n",
    "    \n",
    "    # finding first occurance\n",
    "    while low <= high:\n",
    "        mid = (low+high)//2\n",
    "        if nums[mid] > target:\n",
    "            high = mid - 1\n",
    "        elif nums[mid] == target:\n",
    "            first = mid\n",
    "            high = mid - 1\n",
    "        else:\n",
    "            low = mid + 1\n",
    "    \n",
    "    # finding last occurance\n",
    "    low = 0\n",
    "    high = len(nums)-1\n",
    "    while low <= high:\n",
    "        mid = (low+high)//2\n",
    "        if nums[mid] > target:\n",
    "            high = mid - 1\n",
    "        elif nums[mid] == target:\n",
    "            last = mid\n",
    "            low = mid + 1\n",
    "        else:\n",
    "            low = mid + 1\n",
    "    return [first, last]"
   ]
  },
  {
   "cell_type": "code",
   "execution_count": 13,
   "metadata": {},
   "outputs": [
    {
     "data": {
      "text/plain": [
       "[-1, -1]"
      ]
     },
     "execution_count": 13,
     "metadata": {},
     "output_type": "execute_result"
    }
   ],
   "source": [
    "nums = []\n",
    "target = 0\n",
    "searchRange(nums, target)"
   ]
  },
  {
   "cell_type": "code",
   "execution_count": null,
   "metadata": {},
   "outputs": [],
   "source": []
  }
 ],
 "metadata": {
  "kernelspec": {
   "display_name": "Python 3",
   "language": "python",
   "name": "python3"
  },
  "language_info": {
   "codemirror_mode": {
    "name": "ipython",
    "version": 3
   },
   "file_extension": ".py",
   "mimetype": "text/x-python",
   "name": "python",
   "nbconvert_exporter": "python",
   "pygments_lexer": "ipython3",
   "version": "3.12.7"
  }
 },
 "nbformat": 4,
 "nbformat_minor": 2
}
