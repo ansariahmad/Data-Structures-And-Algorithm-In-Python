{
 "cells": [
  {
   "cell_type": "markdown",
   "id": "e4650e75",
   "metadata": {},
   "source": [
    "# 100. Same Tree"
   ]
  },
  {
   "cell_type": "code",
   "execution_count": null,
   "id": "0ef81255",
   "metadata": {},
   "outputs": [],
   "source": [
    "class Node:\n",
    "    def __init__(self, data):\n",
    "        self.data = data\n",
    "        self.left = None\n",
    "        self.right = None\n",
    "\n",
    "class BinaryTree:\n",
    "    # constructor\n",
    "    def __init__(self):\n",
    "        self.root = None\n",
    "    \n",
    "    # insert a node\n",
    "    def insert(self, data):\n",
    "        if self.root is None:\n",
    "            self.root = Node(data)\n",
    "            return\n",
    "\n",
    "        new_node = Node(data)\n",
    "        queue = [self.root]\n",
    "        while queue:\n",
    "            cur_node = queue.pop(0)\n",
    "            if cur_node.left is None:\n",
    "                cur_node.left = new_node\n",
    "                return\n",
    "            elif cur_node.right is None:\n",
    "                cur_node.right = new_node\n",
    "                return\n",
    "            else:\n",
    "                queue.append(cur_node.left)\n",
    "                queue.append(cur_node.right)\n",
    "\n",
    "    # breadth first search / level order traversal\n",
    "    def bfs(self):\n",
    "        if self.root is None:\n",
    "            return\n",
    "        queue = [self.root]\n",
    "        while queue:\n",
    "            cur_node = queue.pop(0)\n",
    "            print(cur_node.data)\n",
    "            if cur_node.left is not None:\n",
    "                queue.append(cur_node.left)\n",
    "            if cur_node.right is not None:\n",
    "                queue.append(cur_node.right)\n",
    "    \n",
    "    def maxPathSum(self):\n",
    "        maxi = -float(\"inf\")\n",
    "        def maxPath(node):\n",
    "            nonlocal maxi\n",
    "            if node is None:\n",
    "                return 0\n",
    "            lh = maxPath(node.left)\n",
    "            rh = maxPath(node.right)\n",
    "            maxi = max(maxi, node.data+lh+rh)\n",
    "            return max(0, node.data+max(lh,rh))\n",
    "        maxPath(self.root)\n",
    "        return maxi\n",
    "    \n",
    "    def isSameTree(self, root_node):\n",
    "        \n",
    "        def isSame(node1, node2):\n",
    "            if (node1 is None) and (node2 is None):\n",
    "                return True\n",
    "            elif ((node1 is None) and (node2 is not None)) or ((node2 is None) and (node1 is not None)):\n",
    "                return False\n",
    "            elif node1.data == node2.data:\n",
    "                lh = isSame(node1.left, node2.left)\n",
    "                rh = isSame(node1.right, node2.right)\n",
    "                return lh and rh\n",
    "            else:\n",
    "                return False\n",
    "        return isSame(self.root, root_node)"
   ]
  },
  {
   "cell_type": "code",
   "execution_count": 62,
   "id": "0a9b359f",
   "metadata": {},
   "outputs": [],
   "source": [
    "bt = BinaryTree()\n",
    "bt.insert(5); bt.insert(4); bt.insert(43); bt.insert(1); bt.insert(1)"
   ]
  },
  {
   "cell_type": "code",
   "execution_count": 71,
   "id": "8528fb33",
   "metadata": {},
   "outputs": [],
   "source": [
    "bt2 = BinaryTree()"
   ]
  },
  {
   "cell_type": "code",
   "execution_count": 72,
   "id": "f77056f7",
   "metadata": {},
   "outputs": [
    {
     "data": {
      "text/plain": [
       "False"
      ]
     },
     "execution_count": 72,
     "metadata": {},
     "output_type": "execute_result"
    }
   ],
   "source": [
    "bt.isSameTree(bt2.root)"
   ]
  },
  {
   "cell_type": "code",
   "execution_count": null,
   "id": "6445d7fb",
   "metadata": {},
   "outputs": [],
   "source": []
  }
 ],
 "metadata": {
  "kernelspec": {
   "display_name": "dsa",
   "language": "python",
   "name": "python3"
  },
  "language_info": {
   "codemirror_mode": {
    "name": "ipython",
    "version": 3
   },
   "file_extension": ".py",
   "mimetype": "text/x-python",
   "name": "python",
   "nbconvert_exporter": "python",
   "pygments_lexer": "ipython3",
   "version": "3.10.16"
  }
 },
 "nbformat": 4,
 "nbformat_minor": 5
}
