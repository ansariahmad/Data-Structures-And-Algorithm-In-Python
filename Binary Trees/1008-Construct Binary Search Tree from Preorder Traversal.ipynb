{
 "cells": [
  {
   "cell_type": "markdown",
   "id": "2efba228",
   "metadata": {},
   "source": [
    "# Construct Binary Search Tree from Preorder Traversal"
   ]
  },
  {
   "cell_type": "code",
   "execution_count": null,
   "id": "d9166d6f",
   "metadata": {
    "vscode": {
     "languageId": "plaintext"
    }
   },
   "outputs": [],
   "source": [
    "def bstFromPreorder(self, preorder: List[int]) -> Optional[TreeNode]:\n",
    "    idx = 0\n",
    "    def recursive(up):\n",
    "        nonlocal idx\n",
    "        if (idx >= len(preorder)) or (preorder[idx] > up):\n",
    "            idx -= 1\n",
    "            return None\n",
    "        node = TreeNode(preorder[idx])\n",
    "        idx += 1\n",
    "        left_node = recursive(node.val)\n",
    "        node.left = left_node\n",
    "\n",
    "        idx += 1\n",
    "        right_node = recursive(up)\n",
    "        node.right = right_node\n",
    "        return node\n",
    "\n",
    "    return recursive(float(\"inf\"))"
   ]
  }
 ],
 "metadata": {
  "language_info": {
   "name": "python"
  }
 },
 "nbformat": 4,
 "nbformat_minor": 5
}
