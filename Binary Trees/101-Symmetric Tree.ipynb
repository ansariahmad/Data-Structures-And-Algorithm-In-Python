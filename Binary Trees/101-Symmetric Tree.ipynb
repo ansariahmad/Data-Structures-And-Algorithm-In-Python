{
 "cells": [
  {
   "cell_type": "markdown",
   "id": "68489604",
   "metadata": {},
   "source": [
    "# Symmetric Tree"
   ]
  },
  {
   "cell_type": "code",
   "execution_count": 21,
   "id": "16d7bdbf",
   "metadata": {},
   "outputs": [],
   "source": [
    "class Node:\n",
    "    def __init__(self, data):\n",
    "        self.data = data\n",
    "        self.left = None\n",
    "        self.right = None\n",
    "\n",
    "class BinaryTree:\n",
    "    # constructor\n",
    "    def __init__(self):\n",
    "        self.root = None\n",
    "    \n",
    "    # insert a node\n",
    "    def insert(self, data):\n",
    "        if self.root == None:\n",
    "            self.root = Node(data)\n",
    "            return\n",
    "\n",
    "        new_node = Node(data)\n",
    "        queue = [self.root]\n",
    "        while queue:\n",
    "            cur_node = queue.pop(0)\n",
    "            if cur_node.left == None:\n",
    "                cur_node.left = new_node\n",
    "                return\n",
    "            elif cur_node.right == None:\n",
    "                cur_node.right = new_node\n",
    "                return\n",
    "            else:\n",
    "                queue.append(cur_node.left)\n",
    "                queue.append(cur_node.right)\n",
    "    \n",
    "    # breadth first search / level order traversal\n",
    "    def bfs(self):\n",
    "        if self.root == None:\n",
    "            return\n",
    "        queue = [self.root]\n",
    "        while queue:\n",
    "            cur_node = queue.pop(0)\n",
    "            print(cur_node.data)\n",
    "            if cur_node.left is not None:\n",
    "                queue.append(cur_node.left)\n",
    "            if cur_node.right is not None:\n",
    "                queue.append(cur_node.right)\n",
    "    \n",
    "    \n",
    "    def isSymmetric(self):\n",
    "        def inorder(nodeA, nodeB):\n",
    "            if (nodeA is None) and (nodeB is None):\n",
    "                return True\n",
    "            elif (nodeA is None) and (nodeB is not None):\n",
    "                return False\n",
    "            elif (nodeA is not None) and (nodeB is None):\n",
    "                return False\n",
    "            if nodeA.data == nodeB.data:\n",
    "                outputA = inorder(nodeA.left, nodeB.right)\n",
    "                outputB = inorder(nodeA.right, nodeB.left)\n",
    "                return outputA and outputB\n",
    "            else:\n",
    "                return False\n",
    "        return inorder(self.root.left, self.root.right)\n"
   ]
  },
  {
   "cell_type": "code",
   "execution_count": null,
   "id": "0ac76992",
   "metadata": {},
   "outputs": [
    {
     "name": "stdout",
     "output_type": "stream",
     "text": [
      "1\n"
     ]
    }
   ],
   "source": [
    "bt = bt = BinaryTree()\n",
    "bt.insert(1); bt.insert(2); bt.insert(2); bt.insert(4); bt.insert(5); bt.insert(6); bt.insert(7);\n",
    "bt.bfs()"
   ]
  },
  {
   "cell_type": "code",
   "execution_count": 29,
   "id": "b09dd551",
   "metadata": {},
   "outputs": [
    {
     "data": {
      "text/plain": [
       "True"
      ]
     },
     "execution_count": 29,
     "metadata": {},
     "output_type": "execute_result"
    }
   ],
   "source": [
    "bt.isSymmetric()"
   ]
  },
  {
   "cell_type": "code",
   "execution_count": null,
   "id": "a4b03282",
   "metadata": {},
   "outputs": [],
   "source": []
  }
 ],
 "metadata": {
  "kernelspec": {
   "display_name": "dsa",
   "language": "python",
   "name": "python3"
  },
  "language_info": {
   "codemirror_mode": {
    "name": "ipython",
    "version": 3
   },
   "file_extension": ".py",
   "mimetype": "text/x-python",
   "name": "python",
   "nbconvert_exporter": "python",
   "pygments_lexer": "ipython3",
   "version": "3.10.16"
  }
 },
 "nbformat": 4,
 "nbformat_minor": 5
}
