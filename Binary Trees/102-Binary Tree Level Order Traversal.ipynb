{
 "cells": [
  {
   "cell_type": "markdown",
   "id": "648e69f3",
   "metadata": {},
   "source": [
    "# Binary Tree Level Order Traversal"
   ]
  },
  {
   "cell_type": "code",
   "execution_count": null,
   "id": "b77a9d9c",
   "metadata": {},
   "outputs": [],
   "source": [
    "class Node:\n",
    "    def __init__(self, data):\n",
    "        self.data = data\n",
    "        self.left = None\n",
    "        self.right = None\n",
    "\n",
    "class BinaryTree:\n",
    "    # constructor\n",
    "    def __init__(self):\n",
    "        self.root = None\n",
    "    \n",
    "    # insert a node\n",
    "    def insert(self, data):\n",
    "        if self.root == None:\n",
    "            self.root = Node(data)\n",
    "            return\n",
    "\n",
    "        new_node = Node(data)\n",
    "        queue = [self.root]\n",
    "        while queue:\n",
    "            cur_node = queue.pop(0)\n",
    "            if cur_node.left == None:\n",
    "                cur_node.left = new_node\n",
    "                return\n",
    "            elif cur_node.right == None:\n",
    "                cur_node.right = new_node\n",
    "                return\n",
    "            else:\n",
    "                queue.append(cur_node.left)\n",
    "                queue.append(cur_node.right)\n",
    "    \n",
    "    # breadth first search / level order traversal\n",
    "    def bfs(self):\n",
    "        if self.root == None:\n",
    "            return\n",
    "        queue = [self.root]\n",
    "        while queue:\n",
    "            cur_node = queue.pop(0)\n",
    "            print(cur_node.data, end=\"--\")\n",
    "            if cur_node.left is not None:\n",
    "                queue.append(cur_node.left)\n",
    "            if cur_node.right is not None:\n",
    "                queue.append(cur_node.right)\n",
    "    \n",
    "    def levelOrder(self):\n",
    "        if not self.root:\n",
    "            return []\n",
    "        queue = [self.root]\n",
    "        output = []\n",
    "        while queue:\n",
    "            temp = []\n",
    "            child = []\n",
    "            while queue:\n",
    "                node = queue.pop(0)\n",
    "                temp.append(node.data)\n",
    "                if node.left:\n",
    "                    child.append(node.left)\n",
    "                if node.right:\n",
    "                    child.append(node.right)\n",
    "            queue.extend(child[:])\n",
    "            output.append(temp) if temp else ...\n",
    "        return output"
   ]
  },
  {
   "cell_type": "code",
   "execution_count": 2,
   "id": "42d29a66",
   "metadata": {},
   "outputs": [
    {
     "name": "stdout",
     "output_type": "stream",
     "text": [
      "1--2--3--4--5--6--7--43--"
     ]
    }
   ],
   "source": [
    "bt = BinaryTree()\n",
    "bt.insert(1); bt.insert(2); bt.insert(3); bt.insert(4); bt.insert(5); bt.insert(6); bt.insert(7); bt.insert(43)\n",
    "bt.bfs()"
   ]
  },
  {
   "cell_type": "code",
   "execution_count": 3,
   "id": "6172541d",
   "metadata": {},
   "outputs": [
    {
     "data": {
      "text/plain": [
       "[[1], [2, 3], [4, 5, 6, 7], [43]]"
      ]
     },
     "execution_count": 3,
     "metadata": {},
     "output_type": "execute_result"
    }
   ],
   "source": [
    "bt.levelOrder()"
   ]
  },
  {
   "cell_type": "code",
   "execution_count": 8,
   "id": "1d72c098",
   "metadata": {},
   "outputs": [
    {
     "data": {
      "text/plain": [
       "[1, 2]"
      ]
     },
     "execution_count": 8,
     "metadata": {},
     "output_type": "execute_result"
    }
   ],
   "source": [
    "a = []\n",
    "a.insert(0, 2)\n",
    "a.insert(0, 1)\n",
    "a"
   ]
  },
  {
   "cell_type": "code",
   "execution_count": null,
   "id": "da00fd18",
   "metadata": {},
   "outputs": [],
   "source": []
  }
 ],
 "metadata": {
  "kernelspec": {
   "display_name": "dsa",
   "language": "python",
   "name": "python3"
  },
  "language_info": {
   "codemirror_mode": {
    "name": "ipython",
    "version": 3
   },
   "file_extension": ".py",
   "mimetype": "text/x-python",
   "name": "python",
   "nbconvert_exporter": "python",
   "pygments_lexer": "ipython3",
   "version": "3.10.16"
  }
 },
 "nbformat": 4,
 "nbformat_minor": 5
}
