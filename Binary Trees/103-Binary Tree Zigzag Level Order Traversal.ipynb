{
 "cells": [
  {
   "cell_type": "markdown",
   "id": "59eba7e0",
   "metadata": {},
   "source": [
    "# 103. Binary Tree Zigzag Level Order Traversal"
   ]
  },
  {
   "cell_type": "code",
   "execution_count": 23,
   "id": "b4e5132a",
   "metadata": {},
   "outputs": [
    {
     "name": "stderr",
     "output_type": "stream",
     "text": [
      "<>:62: SyntaxWarning: \"is\" with a literal. Did you mean \"==\"?\n",
      "<>:62: SyntaxWarning: \"is\" with a literal. Did you mean \"==\"?\n",
      "C:\\Users\\ahmad\\AppData\\Local\\Temp\\ipykernel_45820\\1394239660.py:62: SyntaxWarning: \"is\" with a literal. Did you mean \"==\"?\n",
      "  if len(queue1) is 0:\n"
     ]
    }
   ],
   "source": [
    "class Node:\n",
    "    def __init__(self, data):\n",
    "        self.data = data\n",
    "        self.left = None\n",
    "        self.right = None\n",
    "\n",
    "class BinaryTree:\n",
    "    # constructor\n",
    "    def __init__(self):\n",
    "        self.root = None\n",
    "    \n",
    "    # insert a node\n",
    "    def insert(self, data):\n",
    "        if self.root is None:\n",
    "            self.root = Node(data)\n",
    "            return\n",
    "\n",
    "        new_node = Node(data)\n",
    "        queue = [self.root]\n",
    "        while queue:\n",
    "            cur_node = queue.pop(0)\n",
    "            if cur_node.left is None:\n",
    "                cur_node.left = new_node\n",
    "                return\n",
    "            elif cur_node.right is None:\n",
    "                cur_node.right = new_node\n",
    "                return\n",
    "            else:\n",
    "                queue.append(cur_node.left)\n",
    "                queue.append(cur_node.right)\n",
    "    \n",
    "    # breadth first search / level order traversal\n",
    "    def bfs(self):\n",
    "        if self.root is None:\n",
    "            return\n",
    "        queue = [self.root]\n",
    "        while queue:\n",
    "            cur_node = queue.pop(0)\n",
    "            print(cur_node.data)\n",
    "            if cur_node.left is not None:\n",
    "                queue.append(cur_node.left)\n",
    "            if cur_node.right is not None:\n",
    "                queue.append(cur_node.right)\n",
    "    \n",
    "    def zigzag(self):\n",
    "        if self.root is None:\n",
    "            return\n",
    "        left_to_right = 0\n",
    "        child = []\n",
    "        queue1 = [self.root]\n",
    "        stack = []\n",
    "        queue2 = []\n",
    "        temp_node = queue1[0]\n",
    "\n",
    "        while queue1:\n",
    "            temp_node = queue1.pop(0)\n",
    "            stack.append(temp_node)\n",
    "            if temp_node.left is not None:\n",
    "                child.append(temp_node.left)\n",
    "            if temp_node.right is not None:\n",
    "                child.append(temp_node.right)\n",
    "            if len(queue1) is 0:\n",
    "                queue1.extend(child)\n",
    "                child.clear()\n",
    "                if left_to_right == 0:\n",
    "                    queue2.append([node.data for node in stack])\n",
    "                else:\n",
    "                    queue2.append([node.data for node in stack[::-1]])\n",
    "                stack.clear()\n",
    "                left_to_right = not left_to_right\n",
    "        return queue2"
   ]
  },
  {
   "cell_type": "code",
   "execution_count": 24,
   "id": "d898b724",
   "metadata": {},
   "outputs": [
    {
     "name": "stdout",
     "output_type": "stream",
     "text": [
      "5\n",
      "4\n",
      "43\n",
      "1\n",
      "40\n"
     ]
    }
   ],
   "source": [
    "bt = BinaryTree()\n",
    "bt.insert(5)\n",
    "bt.insert(4)\n",
    "bt.insert(43)\n",
    "bt.insert(1)\n",
    "bt.insert(40)\n",
    "bt.bfs()"
   ]
  },
  {
   "cell_type": "code",
   "execution_count": 25,
   "id": "bde65576",
   "metadata": {},
   "outputs": [
    {
     "data": {
      "text/plain": [
       "[[5], [43, 4], [1, 40]]"
      ]
     },
     "execution_count": 25,
     "metadata": {},
     "output_type": "execute_result"
    }
   ],
   "source": [
    "bt.zigzag()"
   ]
  },
  {
   "cell_type": "code",
   "execution_count": null,
   "id": "1b672360",
   "metadata": {},
   "outputs": [],
   "source": []
  }
 ],
 "metadata": {
  "kernelspec": {
   "display_name": "dsa",
   "language": "python",
   "name": "python3"
  },
  "language_info": {
   "codemirror_mode": {
    "name": "ipython",
    "version": 3
   },
   "file_extension": ".py",
   "mimetype": "text/x-python",
   "name": "python",
   "nbconvert_exporter": "python",
   "pygments_lexer": "ipython3",
   "version": "3.10.16"
  }
 },
 "nbformat": 4,
 "nbformat_minor": 5
}
