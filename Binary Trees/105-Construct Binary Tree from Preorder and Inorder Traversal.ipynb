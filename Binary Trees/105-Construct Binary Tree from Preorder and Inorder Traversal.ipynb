{
 "cells": [
  {
   "cell_type": "markdown",
   "id": "a20c2b08",
   "metadata": {},
   "source": [
    "# Construct Binary Tree from Preorder and Inorder Traversal"
   ]
  },
  {
   "cell_type": "code",
   "execution_count": 44,
   "id": "c441c28e",
   "metadata": {},
   "outputs": [],
   "source": [
    "class Node:\n",
    "    def __init__(self, data):\n",
    "        self.data = data\n",
    "        self.left = None\n",
    "        self.right = None\n",
    "\n",
    "class BinaryTree:\n",
    "    # constructor\n",
    "    def __init__(self):\n",
    "        self.root = None\n",
    "    \n",
    "    # insert a node\n",
    "    def insert(self, data):\n",
    "        if self.root == None:\n",
    "            self.root = Node(data)\n",
    "            return\n",
    "\n",
    "        new_node = Node(data)\n",
    "        queue = [self.root]\n",
    "        while queue:\n",
    "            cur_node = queue.pop(0)\n",
    "            if cur_node.left == None:\n",
    "                cur_node.left = new_node\n",
    "                return\n",
    "            elif cur_node.right == None:\n",
    "                cur_node.right = new_node\n",
    "                return\n",
    "            else:\n",
    "                queue.append(cur_node.left)\n",
    "                queue.append(cur_node.right)\n",
    "    \n",
    "    # breadth first search / level order traversal\n",
    "    def bfs(self):\n",
    "        if self.root == None:\n",
    "            return\n",
    "        queue = [self.root]\n",
    "        while queue:\n",
    "            cur_node = queue.pop(0)\n",
    "            print(cur_node.data, end=\"--\")\n",
    "            if cur_node.left is not None:\n",
    "                queue.append(cur_node.left)\n",
    "            if cur_node.right is not None:\n",
    "                queue.append(cur_node.right)\n",
    "    \n",
    "    def buildTree(self, preorder, inorder):\n",
    "        idx = 0\n",
    "        def construct(preorder, inorder):\n",
    "            nonlocal idx\n",
    "            if len(inorder) == 0:\n",
    "                return\n",
    "            print(preorder, inorder, idx)\n",
    "            node = Node(preorder[idx])\n",
    "            parent_loc = inorder.index(preorder[idx])\n",
    "            idx += 1\n",
    "            left_node = construct(preorder, inorder[:parent_loc])\n",
    "            right_node = construct(preorder, inorder[parent_loc+1:])\n",
    "            node.left = left_node\n",
    "            node.right = right_node\n",
    "            return node\n",
    "        return construct(preorder, inorder)"
   ]
  },
  {
   "cell_type": "code",
   "execution_count": 45,
   "id": "c222d577",
   "metadata": {},
   "outputs": [
    {
     "name": "stdout",
     "output_type": "stream",
     "text": [
      "1--2--3--4--5--6--7--43--"
     ]
    }
   ],
   "source": [
    "bt = BinaryTree()\n",
    "bt.insert(1); bt.insert(2); bt.insert(3); bt.insert(4); bt.insert(5); bt.insert(6); bt.insert(7); bt.insert(43)\n",
    "bt.bfs()"
   ]
  },
  {
   "cell_type": "code",
   "execution_count": 48,
   "id": "a684a83c",
   "metadata": {},
   "outputs": [
    {
     "name": "stdout",
     "output_type": "stream",
     "text": [
      "[0] [0] 0\n"
     ]
    }
   ],
   "source": [
    "preorder = [0]; inorder = [0]\n",
    "parent_node = bt.buildTree(preorder, inorder)"
   ]
  },
  {
   "cell_type": "code",
   "execution_count": 49,
   "id": "c0cc5ddc",
   "metadata": {},
   "outputs": [
    {
     "name": "stdout",
     "output_type": "stream",
     "text": [
      "0--"
     ]
    }
   ],
   "source": [
    "queue = [parent_node]\n",
    "while queue:\n",
    "    cur_node = queue.pop(0)\n",
    "    print(cur_node.data, end=\"--\")\n",
    "    if cur_node.left is not None:\n",
    "        queue.append(cur_node.left)\n",
    "    if cur_node.right is not None:\n",
    "        queue.append(cur_node.right)"
   ]
  },
  {
   "cell_type": "code",
   "execution_count": 20,
   "id": "ac37e2e6",
   "metadata": {},
   "outputs": [
    {
     "data": {
      "text/plain": [
       "[]"
      ]
     },
     "execution_count": 20,
     "metadata": {},
     "output_type": "execute_result"
    }
   ],
   "source": [
    "inorder[11:]"
   ]
  }
 ],
 "metadata": {
  "kernelspec": {
   "display_name": "dsa",
   "language": "python",
   "name": "python3"
  },
  "language_info": {
   "codemirror_mode": {
    "name": "ipython",
    "version": 3
   },
   "file_extension": ".py",
   "mimetype": "text/x-python",
   "name": "python",
   "nbconvert_exporter": "python",
   "pygments_lexer": "ipython3",
   "version": "3.10.16"
  }
 },
 "nbformat": 4,
 "nbformat_minor": 5
}
