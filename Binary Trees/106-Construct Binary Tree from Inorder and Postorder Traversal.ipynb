{
 "cells": [
  {
   "cell_type": "markdown",
   "id": "dfd8028d",
   "metadata": {},
   "source": [
    "# Construct Binary Tree from Inorder and Postorder Traversal"
   ]
  },
  {
   "cell_type": "code",
   "execution_count": 8,
   "id": "7be9bd21",
   "metadata": {},
   "outputs": [],
   "source": [
    "class Node:\n",
    "    def __init__(self, data):\n",
    "        self.data = data\n",
    "        self.left = None\n",
    "        self.right = None\n",
    "\n",
    "class BinaryTree:\n",
    "    # constructor\n",
    "    def __init__(self):\n",
    "        self.root = None\n",
    "    \n",
    "    # insert a node\n",
    "    def insert(self, data):\n",
    "        if self.root == None:\n",
    "            self.root = Node(data)\n",
    "            return\n",
    "\n",
    "        new_node = Node(data)\n",
    "        queue = [self.root]\n",
    "        while queue:\n",
    "            cur_node = queue.pop(0)\n",
    "            if cur_node.left == None:\n",
    "                cur_node.left = new_node\n",
    "                return\n",
    "            elif cur_node.right == None:\n",
    "                cur_node.right = new_node\n",
    "                return\n",
    "            else:\n",
    "                queue.append(cur_node.left)\n",
    "                queue.append(cur_node.right)\n",
    "    \n",
    "    # breadth first search / level order traversal\n",
    "    def bfs(self):\n",
    "        if self.root == None:\n",
    "            return\n",
    "        queue = [self.root]\n",
    "        while queue:\n",
    "            cur_node = queue.pop(0)\n",
    "            print(cur_node.data, end=\"--\")\n",
    "            if cur_node.left is not None:\n",
    "                queue.append(cur_node.left)\n",
    "            if cur_node.right is not None:\n",
    "                queue.append(cur_node.right)\n",
    "    \n",
    "    def buildTree(self, postorder, inorder):\n",
    "        idx = len(postorder)-1\n",
    "        def construct(postorder, inorder):\n",
    "            nonlocal idx\n",
    "            if len(inorder) == 0:\n",
    "                return\n",
    "            print(postorder, inorder, idx)\n",
    "            node = Node(postorder[idx])\n",
    "            parent_loc = inorder.index(postorder[idx])\n",
    "            idx -= 1\n",
    "            right_node = construct(postorder, inorder[parent_loc+1:])\n",
    "            left_node = construct(postorder, inorder[:parent_loc])\n",
    "            node.left = left_node\n",
    "            node.right = right_node\n",
    "            return node\n",
    "        return construct(postorder, inorder)"
   ]
  },
  {
   "cell_type": "code",
   "execution_count": 9,
   "id": "98a0cb14",
   "metadata": {},
   "outputs": [
    {
     "name": "stdout",
     "output_type": "stream",
     "text": [
      "1--2--3--4--5--6--7--43--"
     ]
    }
   ],
   "source": [
    "bt = BinaryTree()\n",
    "bt.insert(1); bt.insert(2); bt.insert(3); bt.insert(4); bt.insert(5); bt.insert(6); bt.insert(7); bt.insert(43)\n",
    "bt.bfs()"
   ]
  },
  {
   "cell_type": "code",
   "execution_count": 10,
   "id": "b8ddfe39",
   "metadata": {},
   "outputs": [
    {
     "name": "stdout",
     "output_type": "stream",
     "text": [
      "[9, 1, 2, 12, 7, 5, 3, 11, 4, 8] [9, 5, 1, 7, 2, 12, 8, 4, 3, 11] 9\n",
      "[9, 1, 2, 12, 7, 5, 3, 11, 4, 8] [4, 3, 11] 8\n",
      "[9, 1, 2, 12, 7, 5, 3, 11, 4, 8] [3, 11] 7\n",
      "[9, 1, 2, 12, 7, 5, 3, 11, 4, 8] [3] 6\n",
      "[9, 1, 2, 12, 7, 5, 3, 11, 4, 8] [9, 5, 1, 7, 2, 12] 5\n",
      "[9, 1, 2, 12, 7, 5, 3, 11, 4, 8] [1, 7, 2, 12] 4\n",
      "[9, 1, 2, 12, 7, 5, 3, 11, 4, 8] [2, 12] 3\n",
      "[9, 1, 2, 12, 7, 5, 3, 11, 4, 8] [2] 2\n",
      "[9, 1, 2, 12, 7, 5, 3, 11, 4, 8] [1] 1\n",
      "[9, 1, 2, 12, 7, 5, 3, 11, 4, 8] [9] 0\n"
     ]
    }
   ],
   "source": [
    "postorder = [9, 1, 2, 12, 7, 5, 3, 11, 4, 8]; inorder = [9, 5, 1, 7, 2, 12, 8, 4, 3, 11]\n",
    "parent_node = bt.buildTree(postorder, inorder)"
   ]
  },
  {
   "cell_type": "code",
   "execution_count": 11,
   "id": "68c407c2",
   "metadata": {},
   "outputs": [
    {
     "name": "stdout",
     "output_type": "stream",
     "text": [
      "8--5--4--9--7--11--1--12--3--2--"
     ]
    }
   ],
   "source": [
    "queue = [parent_node]\n",
    "while queue:\n",
    "    cur_node = queue.pop(0)\n",
    "    print(cur_node.data, end=\"--\")\n",
    "    if cur_node.left is not None:\n",
    "        queue.append(cur_node.left)\n",
    "    if cur_node.right is not None:\n",
    "        queue.append(cur_node.right)"
   ]
  },
  {
   "cell_type": "code",
   "execution_count": null,
   "id": "e8209511",
   "metadata": {},
   "outputs": [],
   "source": []
  }
 ],
 "metadata": {
  "kernelspec": {
   "display_name": "dsa",
   "language": "python",
   "name": "python3"
  },
  "language_info": {
   "codemirror_mode": {
    "name": "ipython",
    "version": 3
   },
   "file_extension": ".py",
   "mimetype": "text/x-python",
   "name": "python",
   "nbconvert_exporter": "python",
   "pygments_lexer": "ipython3",
   "version": "3.10.16"
  }
 },
 "nbformat": 4,
 "nbformat_minor": 5
}
