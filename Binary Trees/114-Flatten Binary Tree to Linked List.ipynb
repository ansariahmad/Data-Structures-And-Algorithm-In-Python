{
 "cells": [
  {
   "cell_type": "markdown",
   "id": "b0352873",
   "metadata": {},
   "source": [
    "# Flatten Binary Tree to Linked List"
   ]
  },
  {
   "cell_type": "code",
   "execution_count": 8,
   "id": "cc8c7b92",
   "metadata": {},
   "outputs": [],
   "source": [
    "class Node:\n",
    "    def __init__(self, data):\n",
    "        self.data = data\n",
    "        self.left = None\n",
    "        self.right = None\n",
    "\n",
    "class BinaryTree:\n",
    "    # constructor\n",
    "    def __init__(self):\n",
    "        self.root = None\n",
    "    \n",
    "    # insert a node\n",
    "    def insert(self, data):\n",
    "        if self.root == None:\n",
    "            self.root = Node(data)\n",
    "            return\n",
    "\n",
    "        new_node = Node(data)\n",
    "        queue = [self.root]\n",
    "        while queue:\n",
    "            cur_node = queue.pop(0)\n",
    "            if cur_node.left == None:\n",
    "                cur_node.left = new_node\n",
    "                return\n",
    "            elif cur_node.right == None:\n",
    "                cur_node.right = new_node\n",
    "                return\n",
    "            else:\n",
    "                queue.append(cur_node.left)\n",
    "                queue.append(cur_node.right)\n",
    "    \n",
    "    # breadth first search / level order traversal\n",
    "    def bfs(self):\n",
    "        if self.root == None:\n",
    "            return\n",
    "        queue = [self.root]\n",
    "        while queue:\n",
    "            cur_node = queue.pop(0)\n",
    "            print(cur_node.data, end=\"--\")\n",
    "            if cur_node.left is not None:\n",
    "                queue.append(cur_node.left)\n",
    "            if cur_node.right is not None:\n",
    "                queue.append(cur_node.right)\n",
    "    \n",
    "    def flatten(self):\n",
    "        prev = None\n",
    "        def function(node):\n",
    "            nonlocal prev\n",
    "            if node is None:\n",
    "                return\n",
    "            function(node.right)\n",
    "            function(node.left)\n",
    "            node.right = prev\n",
    "            node.left = None\n",
    "            prev = node\n",
    "        function(self.root)"
   ]
  },
  {
   "cell_type": "code",
   "execution_count": 9,
   "id": "9a7fe8ec",
   "metadata": {},
   "outputs": [
    {
     "name": "stdout",
     "output_type": "stream",
     "text": [
      "1--2--3--4--5--6--7--43--"
     ]
    }
   ],
   "source": [
    "bt = BinaryTree()\n",
    "bt.insert(1); bt.insert(2); bt.insert(3); bt.insert(4); bt.insert(5); bt.insert(6); bt.insert(7); bt.insert(43)\n",
    "bt.bfs()"
   ]
  },
  {
   "cell_type": "code",
   "execution_count": 10,
   "id": "ac66c8f4",
   "metadata": {},
   "outputs": [],
   "source": [
    "bt.flatten()"
   ]
  },
  {
   "cell_type": "code",
   "execution_count": 11,
   "id": "a71c36d2",
   "metadata": {},
   "outputs": [
    {
     "name": "stdout",
     "output_type": "stream",
     "text": [
      "1--2--4--43--5--3--6--7--"
     ]
    }
   ],
   "source": [
    "bt.bfs()"
   ]
  },
  {
   "cell_type": "code",
   "execution_count": null,
   "id": "4ae5d981",
   "metadata": {},
   "outputs": [],
   "source": []
  }
 ],
 "metadata": {
  "kernelspec": {
   "display_name": "dsa",
   "language": "python",
   "name": "python3"
  },
  "language_info": {
   "codemirror_mode": {
    "name": "ipython",
    "version": 3
   },
   "file_extension": ".py",
   "mimetype": "text/x-python",
   "name": "python",
   "nbconvert_exporter": "python",
   "pygments_lexer": "ipython3",
   "version": "3.10.16"
  }
 },
 "nbformat": 4,
 "nbformat_minor": 5
}
