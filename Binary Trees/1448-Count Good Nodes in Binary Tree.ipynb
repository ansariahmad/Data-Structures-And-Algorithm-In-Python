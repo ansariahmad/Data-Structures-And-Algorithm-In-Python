{
 "cells": [
  {
   "cell_type": "markdown",
   "id": "7a98b5f8",
   "metadata": {},
   "source": [
    "# Count Good Nodes in Binary Tree"
   ]
  },
  {
   "cell_type": "code",
   "execution_count": 4,
   "id": "f178f9c2",
   "metadata": {},
   "outputs": [],
   "source": [
    "class Node:\n",
    "    def __init__(self, data):\n",
    "        self.data = data\n",
    "        self.left = None\n",
    "        self.right = None\n",
    "\n",
    "class BinaryTree:\n",
    "    # constructor\n",
    "    def __init__(self):\n",
    "        self.root = None\n",
    "    \n",
    "    # insert a node\n",
    "    def insert(self, data):\n",
    "        if self.root is None:\n",
    "            self.root = Node(data)\n",
    "            return\n",
    "\n",
    "        new_node = Node(data)\n",
    "        queue = [self.root]\n",
    "        while queue:\n",
    "            cur_node = queue.pop(0)\n",
    "            if cur_node.left is None:\n",
    "                cur_node.left = new_node\n",
    "                return\n",
    "            elif cur_node.right is None:\n",
    "                cur_node.right = new_node\n",
    "                return\n",
    "            else:\n",
    "                queue.append(cur_node.left)\n",
    "                queue.append(cur_node.right)\n",
    "\n",
    "    # breadth first search / level order traversal\n",
    "    def bfs(self):\n",
    "        if self.root is None:\n",
    "            return\n",
    "        queue = [self.root]\n",
    "        while queue:\n",
    "            cur_node = queue.pop(0)\n",
    "            print(cur_node.data)\n",
    "            if cur_node.left is not None:\n",
    "                queue.append(cur_node.left)\n",
    "            if cur_node.right is not None:\n",
    "                queue.append(cur_node.right)\n",
    "    \n",
    "    def goodNodes(self) -> int:\n",
    "        goods = 0\n",
    "        def function(node, temp):\n",
    "            nonlocal goods\n",
    "            if node is None:\n",
    "                return\n",
    "            if node.data >= temp[-1]:\n",
    "                goods += 1\n",
    "                temp.append(node.data)\n",
    "            function(node.left, temp)\n",
    "            function(node.right, temp)\n",
    "            if node.data == temp[-1]:\n",
    "                temp.pop()\n",
    "        function(self.root, [-float(\"inf\")])\n",
    "        return goods"
   ]
  },
  {
   "cell_type": "code",
   "execution_count": 5,
   "id": "c1814fc8",
   "metadata": {},
   "outputs": [
    {
     "name": "stdout",
     "output_type": "stream",
     "text": [
      "1\n",
      "2\n",
      "3\n",
      "4\n",
      "5\n",
      "6\n",
      "7\n"
     ]
    }
   ],
   "source": [
    "bt = bt = BinaryTree()\n",
    "bt.insert(1); bt.insert(2); bt.insert(3); bt.insert(4); bt.insert(5); bt.insert(6); bt.insert(7);\n",
    "bt.bfs()"
   ]
  },
  {
   "cell_type": "code",
   "execution_count": 6,
   "id": "9a1b0579",
   "metadata": {},
   "outputs": [
    {
     "data": {
      "text/plain": [
       "7"
      ]
     },
     "execution_count": 6,
     "metadata": {},
     "output_type": "execute_result"
    }
   ],
   "source": [
    "bt.goodNodes()"
   ]
  },
  {
   "cell_type": "code",
   "execution_count": null,
   "id": "6e4fcdb5",
   "metadata": {},
   "outputs": [],
   "source": []
  }
 ],
 "metadata": {
  "kernelspec": {
   "display_name": "dsa",
   "language": "python",
   "name": "python3"
  },
  "language_info": {
   "codemirror_mode": {
    "name": "ipython",
    "version": 3
   },
   "file_extension": ".py",
   "mimetype": "text/x-python",
   "name": "python",
   "nbconvert_exporter": "python",
   "pygments_lexer": "ipython3",
   "version": "3.10.16"
  }
 },
 "nbformat": 4,
 "nbformat_minor": 5
}
