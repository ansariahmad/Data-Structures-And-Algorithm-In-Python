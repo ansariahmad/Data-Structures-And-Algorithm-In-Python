{
 "cells": [
  {
   "cell_type": "markdown",
   "id": "c083c8cf",
   "metadata": {},
   "source": [
    "# Binary Search Tree Iterator"
   ]
  },
  {
   "cell_type": "code",
   "execution_count": null,
   "id": "6d62b2b4",
   "metadata": {
    "vscode": {
     "languageId": "plaintext"
    }
   },
   "outputs": [],
   "source": [
    "# Definition for a binary tree node.\n",
    "# class TreeNode:\n",
    "#     def __init__(self, val=0, left=None, right=None):\n",
    "#         self.val = val\n",
    "#         self.left = left\n",
    "#         self.right = right\n",
    "class BSTIterator:\n",
    "\n",
    "    def __init__(self, root: Optional[TreeNode]):\n",
    "        self.stack = []\n",
    "        node = root\n",
    "        while node:\n",
    "            self.stack.append(node)\n",
    "            node = node.left\n",
    "\n",
    "    def next(self) -> int:\n",
    "        node = self.stack.pop()\n",
    "        val = node.val\n",
    "        if node.right:\n",
    "            node = node.right\n",
    "            while node:\n",
    "                self.stack.append(node)\n",
    "                node = node.left\n",
    "        return val\n",
    "\n",
    "    def hasNext(self) -> bool:\n",
    "        return True if self.stack else False\n",
    "\n",
    "\n",
    "# Your BSTIterator object will be instantiated and called as such:\n",
    "# obj = BSTIterator(root)\n",
    "# param_1 = obj.next()\n",
    "# param_2 = obj.hasNext()"
   ]
  }
 ],
 "metadata": {
  "language_info": {
   "name": "python"
  }
 },
 "nbformat": 4,
 "nbformat_minor": 5
}
