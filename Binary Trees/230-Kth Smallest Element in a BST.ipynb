{
 "cells": [
  {
   "cell_type": "markdown",
   "id": "17c1bed4",
   "metadata": {},
   "source": [
    "# Kth Smallest Element in a BST"
   ]
  },
  {
   "cell_type": "code",
   "execution_count": null,
   "id": "84a937ca",
   "metadata": {},
   "outputs": [],
   "source": [
    "def kthSmallest(self, root, k: int) -> int:\n",
    "        count = 0\n",
    "        val = float(\"inf\")\n",
    "        def inorder(node):\n",
    "            nonlocal count, val\n",
    "            # print(count)\n",
    "            if node is None:\n",
    "                return\n",
    "            if val != float(\"inf\"):\n",
    "                return\n",
    "            inorder(node.left)\n",
    "            print(count, node.val)\n",
    "            count += 1\n",
    "            if count == k:\n",
    "                val = node.val\n",
    "            inorder(node.right)\n",
    "        inorder(root)\n",
    "        return val"
   ]
  }
 ],
 "metadata": {
  "kernelspec": {
   "display_name": "dsa",
   "language": "python",
   "name": "python3"
  },
  "language_info": {
   "name": "python",
   "version": "3.10.16"
  }
 },
 "nbformat": 4,
 "nbformat_minor": 5
}
