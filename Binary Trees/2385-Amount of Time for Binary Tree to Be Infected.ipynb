{
 "cells": [
  {
   "cell_type": "markdown",
   "id": "dc74aeb7",
   "metadata": {},
   "source": [
    "# Amount of Time for Binary Tree to Be Infected"
   ]
  },
  {
   "cell_type": "code",
   "execution_count": 15,
   "id": "c270eaf2",
   "metadata": {},
   "outputs": [],
   "source": [
    "class Node:\n",
    "    def __init__(self, data):\n",
    "        self.data = data\n",
    "        self.left = None\n",
    "        self.right = None\n",
    "\n",
    "class BinaryTree:\n",
    "    # constructor\n",
    "    def __init__(self):\n",
    "        self.root = None\n",
    "    \n",
    "    # insert a node\n",
    "    def insert(self, data):\n",
    "        if self.root == None:\n",
    "            self.root = Node(data)\n",
    "            return\n",
    "\n",
    "        new_node = Node(data)\n",
    "        queue = [self.root]\n",
    "        while queue:\n",
    "            cur_node = queue.pop(0)\n",
    "            if cur_node.left == None:\n",
    "                cur_node.left = new_node\n",
    "                return\n",
    "            elif cur_node.right == None:\n",
    "                cur_node.right = new_node\n",
    "                return\n",
    "            else:\n",
    "                queue.append(cur_node.left)\n",
    "                queue.append(cur_node.right)\n",
    "    \n",
    "    # breadth first search / level order traversal\n",
    "    def bfs(self):\n",
    "        if self.root == None:\n",
    "            return\n",
    "        queue = [self.root]\n",
    "        while queue:\n",
    "            cur_node = queue.pop(0)\n",
    "            print(cur_node.data)\n",
    "            if cur_node.left is not None:\n",
    "                queue.append(cur_node.left)\n",
    "            if cur_node.right is not None:\n",
    "                queue.append(cur_node.right)\n",
    "    \n",
    "    def amountOfTime(self):\n",
    "        target = self.root.left\n",
    "        mapping = dict()\n",
    "        mapping[self.root] = None\n",
    "        queue = [self.root]\n",
    "        while queue:\n",
    "            node = queue.pop(0)\n",
    "            if node.left:\n",
    "                queue.append(node.left)\n",
    "                mapping[node.left] = node\n",
    "            if node.right:\n",
    "                queue.append(node.right)\n",
    "                mapping[node.right] = node\n",
    "        \n",
    "        queue = [target]\n",
    "        visited = [target]\n",
    "        minute = 0\n",
    "        while (queue):\n",
    "            flag = False\n",
    "            child = queue[:]\n",
    "            queue.clear()\n",
    "            while child:\n",
    "                node = child.pop(0)\n",
    "                print(node.data)\n",
    "                if (node.left) and (node.left not in visited):\n",
    "                    flag = True\n",
    "                    queue.append(node.left)\n",
    "                    visited.append(node.left)\n",
    "                if (node.right) and (node.right not in visited):\n",
    "                    flag = True\n",
    "                    queue.append(node.right)\n",
    "                    visited.append(node.right)\n",
    "                if (mapping[node]) and (mapping[node] not in visited):\n",
    "                    flag = True\n",
    "                    queue.append(mapping[node])\n",
    "                    visited.append(mapping[node])\n",
    "            if flag: minute += 1\n",
    "        return minute"
   ]
  },
  {
   "cell_type": "code",
   "execution_count": 19,
   "id": "479d4726",
   "metadata": {},
   "outputs": [
    {
     "name": "stdout",
     "output_type": "stream",
     "text": [
      "1\n",
      "2\n",
      "3\n",
      "4\n",
      "5\n",
      "6\n",
      "7\n",
      "43\n"
     ]
    }
   ],
   "source": [
    "bt = bt = BinaryTree()\n",
    "bt.insert(1); bt.insert(2); bt.insert(3); bt.insert(4); bt.insert(5); bt.insert(6); bt.insert(7); bt.insert(43)\n",
    "bt.bfs()"
   ]
  },
  {
   "cell_type": "code",
   "execution_count": 20,
   "id": "a630f8ae",
   "metadata": {},
   "outputs": [
    {
     "name": "stdout",
     "output_type": "stream",
     "text": [
      "2\n",
      "4\n",
      "5\n",
      "1\n",
      "43\n",
      "3\n",
      "6\n",
      "7\n"
     ]
    },
    {
     "data": {
      "text/plain": [
       "3"
      ]
     },
     "execution_count": 20,
     "metadata": {},
     "output_type": "execute_result"
    }
   ],
   "source": [
    "bt.amountOfTime()"
   ]
  },
  {
   "cell_type": "code",
   "execution_count": 18,
   "id": "f8be4709",
   "metadata": {},
   "outputs": [
    {
     "name": "stdout",
     "output_type": "stream",
     "text": [
      "b\n"
     ]
    }
   ],
   "source": [
    "a = {1:2}\n",
    "if a[1]:\n",
    "    print(\"b\")"
   ]
  },
  {
   "cell_type": "code",
   "execution_count": null,
   "id": "417791c8",
   "metadata": {},
   "outputs": [],
   "source": []
  }
 ],
 "metadata": {
  "kernelspec": {
   "display_name": "dsa",
   "language": "python",
   "name": "python3"
  },
  "language_info": {
   "codemirror_mode": {
    "name": "ipython",
    "version": 3
   },
   "file_extension": ".py",
   "mimetype": "text/x-python",
   "name": "python",
   "nbconvert_exporter": "python",
   "pygments_lexer": "ipython3",
   "version": "3.10.16"
  }
 },
 "nbformat": 4,
 "nbformat_minor": 5
}
