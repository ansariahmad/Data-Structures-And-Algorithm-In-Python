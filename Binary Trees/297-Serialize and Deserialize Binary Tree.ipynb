{
 "cells": [
  {
   "cell_type": "markdown",
   "id": "60a708e6",
   "metadata": {},
   "source": [
    "# Serialize and Deserialize Binary Tree"
   ]
  },
  {
   "cell_type": "code",
   "execution_count": 20,
   "id": "28b43907",
   "metadata": {},
   "outputs": [],
   "source": [
    "class Node:\n",
    "    def __init__(self, data):\n",
    "        self.data = data\n",
    "        self.left = None\n",
    "        self.right = None\n",
    "\n",
    "class BinaryTree:\n",
    "    # constructor\n",
    "    def __init__(self):\n",
    "        self.root = None\n",
    "    \n",
    "    # insert a node\n",
    "    def insert(self, data):\n",
    "        if self.root == None:\n",
    "            self.root = Node(data)\n",
    "            return\n",
    "\n",
    "        new_node = Node(data)\n",
    "        queue = [self.root]\n",
    "        while queue:\n",
    "            cur_node = queue.pop(0)\n",
    "            if cur_node.left == None:\n",
    "                cur_node.left = new_node\n",
    "                return\n",
    "            elif cur_node.right == None:\n",
    "                cur_node.right = new_node\n",
    "                return\n",
    "            else:\n",
    "                queue.append(cur_node.left)\n",
    "                queue.append(cur_node.right)\n",
    "    \n",
    "    # breadth first search / level order traversal\n",
    "    def bfs(self):\n",
    "        if self.root == None:\n",
    "            return\n",
    "        queue = [self.root]\n",
    "        while queue:\n",
    "            cur_node = queue.pop(0)\n",
    "            print(cur_node.data, end=\"--\")\n",
    "            if cur_node.left is not None:\n",
    "                queue.append(cur_node.left)\n",
    "            if cur_node.right is not None:\n",
    "                queue.append(cur_node.right)\n",
    "    \n",
    "    def serialize(self):\n",
    "        \"\"\"Encodes a tree to a single string.\n",
    "        \n",
    "        :type root: Node\n",
    "        :rtype: str\n",
    "        \"\"\"\n",
    "        if not self.root: return \"\"\n",
    "        string = \"\"\n",
    "        queue = [self.root]\n",
    "        while queue:\n",
    "            node = queue.pop(0)\n",
    "            if node is None:\n",
    "                string += \"#\" + \",\"\n",
    "                continue\n",
    "            string = string + str(node.data) + \",\"\n",
    "            queue.append(node.left)\n",
    "            queue.append(node.right)\n",
    "        return string\n",
    "\n",
    "    def deserialize(self, data):\n",
    "        \"\"\"Decodes your encoded data to tree.\n",
    "        \n",
    "        :type data: str\n",
    "        :rtype: Node\n",
    "        \"\"\"\n",
    "        first = 0\n",
    "        second = 0\n",
    "        queue = []\n",
    "        child = []\n",
    "        head = None\n",
    "\n",
    "        while first < len(data):\n",
    "            while data[second] != \",\":\n",
    "                second += 1\n",
    "            val = data[first:second]\n",
    "            if first == 0:\n",
    "                head = Node(int(val))\n",
    "                queue.append(head)\n",
    "            else:\n",
    "                child.append(val)\n",
    "                if len(child) == 2:\n",
    "                    left_data, right_data = child\n",
    "                    cur_node = queue.pop(0)\n",
    "                    if left_data != \"#\":\n",
    "                        cur_node.left = Node(int(left_data))\n",
    "                        queue.append(cur_node.left)\n",
    "                    if right_data != \"#\":\n",
    "                        cur_node.right = Node(int(right_data))\n",
    "                        queue.append(cur_node.right)\n",
    "                    child.clear()\n",
    "            first = second + 1\n",
    "            second = first\n",
    "        return head"
   ]
  },
  {
   "cell_type": "code",
   "execution_count": 21,
   "id": "957353df",
   "metadata": {},
   "outputs": [
    {
     "name": "stdout",
     "output_type": "stream",
     "text": [
      "1--2--3--4--5--6--7--43--"
     ]
    }
   ],
   "source": [
    "bt = BinaryTree()\n",
    "bt.insert(1); bt.insert(2); bt.insert(3); bt.insert(4); bt.insert(5); bt.insert(6); bt.insert(7); bt.insert(43)\n",
    "bt.bfs()"
   ]
  },
  {
   "cell_type": "code",
   "execution_count": 22,
   "id": "59c706d8",
   "metadata": {},
   "outputs": [
    {
     "name": "stdout",
     "output_type": "stream",
     "text": [
      "1,2,3,4,5,6,7,43,#,#,#,#,#,#,#,#,#,\n"
     ]
    },
    {
     "data": {
      "text/plain": [
       "<__main__.Node at 0x156b3a06ef0>"
      ]
     },
     "execution_count": 22,
     "metadata": {},
     "output_type": "execute_result"
    }
   ],
   "source": [
    "string = bt.serialize()\n",
    "print(string)\n",
    "bt.deserialize(string)"
   ]
  },
  {
   "cell_type": "code",
   "execution_count": null,
   "id": "47886aeb",
   "metadata": {},
   "outputs": [],
   "source": []
  }
 ],
 "metadata": {
  "kernelspec": {
   "display_name": "dsa",
   "language": "python",
   "name": "python3"
  },
  "language_info": {
   "codemirror_mode": {
    "name": "ipython",
    "version": 3
   },
   "file_extension": ".py",
   "mimetype": "text/x-python",
   "name": "python",
   "nbconvert_exporter": "python",
   "pygments_lexer": "ipython3",
   "version": "3.10.16"
  }
 },
 "nbformat": 4,
 "nbformat_minor": 5
}
