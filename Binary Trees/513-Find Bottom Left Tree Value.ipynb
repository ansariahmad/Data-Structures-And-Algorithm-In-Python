{
 "cells": [
  {
   "cell_type": "markdown",
   "id": "5fad44a9",
   "metadata": {},
   "source": [
    "# Find Bottom Left Tree Value"
   ]
  },
  {
   "cell_type": "code",
   "execution_count": null,
   "id": "f615a751",
   "metadata": {},
   "outputs": [],
   "source": [
    "class Node:\n",
    "    def __init__(self, data):\n",
    "        self.data = data\n",
    "        self.left = None\n",
    "        self.right = None\n",
    "\n",
    "class BinaryTree:\n",
    "    # constructor\n",
    "    def __init__(self):\n",
    "        self.root = None\n",
    "    \n",
    "    # insert a node\n",
    "    def insert(self, data):\n",
    "        if self.root == None:\n",
    "            self.root = Node(data)\n",
    "            return\n",
    "\n",
    "        new_node = Node(data)\n",
    "        queue = [self.root]\n",
    "        while queue:\n",
    "            cur_node = queue.pop(0)\n",
    "            if cur_node.left == None:\n",
    "                cur_node.left = new_node\n",
    "                return\n",
    "            elif cur_node.right == None:\n",
    "                cur_node.right = new_node\n",
    "                return\n",
    "            else:\n",
    "                queue.append(cur_node.left)\n",
    "                queue.append(cur_node.right)\n",
    "    \n",
    "    # breadth first search / level order traversal\n",
    "    def bfs(self):\n",
    "        if self.root == None:\n",
    "            return\n",
    "        queue = [self.root]\n",
    "        while queue:\n",
    "            cur_node = queue.pop(0)\n",
    "            print(cur_node.data)\n",
    "            if cur_node.left is not None:\n",
    "                queue.append(cur_node.left)\n",
    "            if cur_node.right is not None:\n",
    "                queue.append(cur_node.right)\n",
    "    \n",
    "    # bottom-left-value of binary tree\n",
    "    def findBottomLeftValue(self) -> int:\n",
    "        queue = [[self.root, 0]]\n",
    "        bottom_left_value = None\n",
    "\n",
    "        previous_level = -1\n",
    "        while queue:\n",
    "            node, level = queue.pop(0)\n",
    "            if level > previous_level:\n",
    "                bottom_left_value = node.data\n",
    "            if node.left:\n",
    "                queue.append([node.left, level+1])\n",
    "            if node.right:\n",
    "                queue.append([node.right, level+1])\n",
    "            previous_level = level\n",
    "        return bottom_left_value"
   ]
  },
  {
   "cell_type": "code",
   "execution_count": 2,
   "id": "be9fd2d9",
   "metadata": {},
   "outputs": [
    {
     "name": "stdout",
     "output_type": "stream",
     "text": [
      "1\n",
      "2\n",
      "3\n",
      "4\n",
      "5\n",
      "6\n",
      "7\n"
     ]
    }
   ],
   "source": [
    "bt = bt = BinaryTree()\n",
    "bt.insert(1); bt.insert(2); bt.insert(3); bt.insert(4); bt.insert(5); bt.insert(6); bt.insert(7);\n",
    "bt.bfs()"
   ]
  },
  {
   "cell_type": "code",
   "execution_count": 3,
   "id": "22b0ab43",
   "metadata": {},
   "outputs": [
    {
     "data": {
      "text/plain": [
       "4"
      ]
     },
     "execution_count": 3,
     "metadata": {},
     "output_type": "execute_result"
    }
   ],
   "source": [
    "bt.findBottomLeftValue()"
   ]
  },
  {
   "cell_type": "code",
   "execution_count": null,
   "id": "7dfa937d",
   "metadata": {},
   "outputs": [],
   "source": []
  }
 ],
 "metadata": {
  "kernelspec": {
   "display_name": "dsa",
   "language": "python",
   "name": "python3"
  },
  "language_info": {
   "codemirror_mode": {
    "name": "ipython",
    "version": 3
   },
   "file_extension": ".py",
   "mimetype": "text/x-python",
   "name": "python",
   "nbconvert_exporter": "python",
   "pygments_lexer": "ipython3",
   "version": "3.10.16"
  }
 },
 "nbformat": 4,
 "nbformat_minor": 5
}
