{
 "cells": [
  {
   "cell_type": "markdown",
   "id": "65a88473",
   "metadata": {},
   "source": [
    "# 543. Diameter of Binary Tree"
   ]
  },
  {
   "cell_type": "code",
   "execution_count": 2,
   "id": "18f3570d",
   "metadata": {},
   "outputs": [],
   "source": [
    "class Node:\n",
    "    def __init__(self, data):\n",
    "        self.data = data\n",
    "        self.left = None\n",
    "        self.right = None\n",
    "\n",
    "class BinaryTree:\n",
    "    # constructor\n",
    "    def __init__(self):\n",
    "        self.root = None\n",
    "    \n",
    "    # insert a node\n",
    "    def insert(self, data):\n",
    "        if self.root is None:\n",
    "            self.root = Node(data)\n",
    "            return\n",
    "\n",
    "        new_node = Node(data)\n",
    "        queue = [self.root]\n",
    "        while queue:\n",
    "            cur_node = queue.pop(0)\n",
    "            if cur_node.left is None:\n",
    "                cur_node.left = new_node\n",
    "                return\n",
    "            elif cur_node.right is None:\n",
    "                cur_node.right = new_node\n",
    "                return\n",
    "            else:\n",
    "                queue.append(cur_node.left)\n",
    "                queue.append(cur_node.right)\n",
    "\n",
    "    # breadth first search / level order traversal\n",
    "    def bfs(self):\n",
    "        if self.root is None:\n",
    "            return\n",
    "        queue = [self.root]\n",
    "        while queue:\n",
    "            cur_node = queue.pop(0)\n",
    "            print(cur_node.data)\n",
    "            if cur_node.left is not None:\n",
    "                queue.append(cur_node.left)\n",
    "            if cur_node.right is not None:\n",
    "                queue.append(cur_node.right)\n",
    "    \n",
    "    def diameterOfBinaryTree(self):\n",
    "        maxi = 0\n",
    "        def findDiameter(node: Node):\n",
    "            nonlocal maxi\n",
    "            if node is None:\n",
    "                return 0\n",
    "            lh = findDiameter(node.left)\n",
    "            rh = findDiameter(node.right)\n",
    "            maxi = max(maxi, lh+rh)\n",
    "            return 1 + max(lh, rh)\n",
    "        findDiameter(self.root)\n",
    "        return maxi"
   ]
  },
  {
   "cell_type": "code",
   "execution_count": 9,
   "id": "693f1dd6",
   "metadata": {},
   "outputs": [
    {
     "name": "stdout",
     "output_type": "stream",
     "text": [
      "5\n",
      "4\n",
      "43\n",
      "1\n",
      "1\n",
      "40\n",
      "40\n"
     ]
    }
   ],
   "source": [
    "bt = BinaryTree()\n",
    "bt.insert(5)\n",
    "bt.insert(4)\n",
    "bt.insert(43)\n",
    "bt.insert(1)\n",
    "bt.insert(1)\n",
    "bt.insert(40)\n",
    "bt.insert(40)\n",
    "bt.bfs()"
   ]
  },
  {
   "cell_type": "code",
   "execution_count": 10,
   "id": "82747ef7",
   "metadata": {},
   "outputs": [
    {
     "data": {
      "text/plain": [
       "4"
      ]
     },
     "execution_count": 10,
     "metadata": {},
     "output_type": "execute_result"
    }
   ],
   "source": [
    "bt.diameterOfBinaryTree()"
   ]
  },
  {
   "cell_type": "code",
   "execution_count": null,
   "id": "08a3fbf6",
   "metadata": {},
   "outputs": [],
   "source": []
  }
 ],
 "metadata": {
  "kernelspec": {
   "display_name": "dsa",
   "language": "python",
   "name": "python3"
  },
  "language_info": {
   "codemirror_mode": {
    "name": "ipython",
    "version": 3
   },
   "file_extension": ".py",
   "mimetype": "text/x-python",
   "name": "python",
   "nbconvert_exporter": "python",
   "pygments_lexer": "ipython3",
   "version": "3.10.16"
  }
 },
 "nbformat": 4,
 "nbformat_minor": 5
}
