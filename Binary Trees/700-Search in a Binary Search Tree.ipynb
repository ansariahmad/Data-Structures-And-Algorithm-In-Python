{
 "cells": [
  {
   "cell_type": "markdown",
   "id": "6ff3a16b",
   "metadata": {},
   "source": [
    "# Search in a Binary Search Tree"
   ]
  },
  {
   "cell_type": "code",
   "execution_count": null,
   "id": "168d5b6f",
   "metadata": {},
   "outputs": [],
   "source": [
    "def searchBST(self, root, val: int):\n",
    "    node = root\n",
    "    while node:\n",
    "        if val == node.val:\n",
    "            return node\n",
    "        elif val > node.val:\n",
    "            node = node.right\n",
    "        else:\n",
    "            node = node.left\n",
    "    return None"
   ]
  }
 ],
 "metadata": {
  "kernelspec": {
   "display_name": "dsa",
   "language": "python",
   "name": "python3"
  },
  "language_info": {
   "name": "python",
   "version": "3.10.16"
  }
 },
 "nbformat": 4,
 "nbformat_minor": 5
}
