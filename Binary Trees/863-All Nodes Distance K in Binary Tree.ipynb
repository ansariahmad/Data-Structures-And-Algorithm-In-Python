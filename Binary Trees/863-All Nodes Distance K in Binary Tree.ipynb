{
 "cells": [
  {
   "cell_type": "markdown",
   "id": "268479e6",
   "metadata": {},
   "source": [
    "# All Nodes Distance K in Binary Tree"
   ]
  },
  {
   "cell_type": "code",
   "execution_count": 44,
   "id": "576f6f80",
   "metadata": {},
   "outputs": [],
   "source": [
    "class Node:\n",
    "    def __init__(self, data):\n",
    "        self.data = data\n",
    "        self.left = None\n",
    "        self.right = None\n",
    "\n",
    "class BinaryTree:\n",
    "    # constructor\n",
    "    def __init__(self):\n",
    "        self.root = None\n",
    "    \n",
    "    # insert a node\n",
    "    def insert(self, data):\n",
    "        if self.root == None:\n",
    "            self.root = Node(data)\n",
    "            return\n",
    "\n",
    "        new_node = Node(data)\n",
    "        queue = [self.root]\n",
    "        while queue:\n",
    "            cur_node = queue.pop(0)\n",
    "            if cur_node.left == None:\n",
    "                cur_node.left = new_node\n",
    "                return\n",
    "            elif cur_node.right == None:\n",
    "                cur_node.right = new_node\n",
    "                return\n",
    "            else:\n",
    "                queue.append(cur_node.left)\n",
    "                queue.append(cur_node.right)\n",
    "    \n",
    "    # breadth first search / level order traversal\n",
    "    def bfs(self):\n",
    "        if self.root == None:\n",
    "            return\n",
    "        queue = [self.root]\n",
    "        while queue:\n",
    "            cur_node = queue.pop(0)\n",
    "            print(cur_node.data)\n",
    "            if cur_node.left is not None:\n",
    "                queue.append(cur_node.left)\n",
    "            if cur_node.right is not None:\n",
    "                queue.append(cur_node.right)\n",
    "    \n",
    "    def distanceK(self, k):\n",
    "        target = self.root.left\n",
    "        mapping = dict()\n",
    "        mapping[self.root] = None\n",
    "        queue = [self.root]\n",
    "        while queue:\n",
    "            node = queue.pop(0)\n",
    "            if node.left:\n",
    "                queue.append(node.left)\n",
    "                mapping[node.left] = node\n",
    "            if node.right:\n",
    "                queue.append(node.right)\n",
    "                mapping[node.right] = node\n",
    "        \n",
    "        queue = [[target, 0]]\n",
    "        visited = [target]\n",
    "\n",
    "        while (queue):\n",
    "            node, distance = queue.pop(0)\n",
    "            # print(node.data, distance)\n",
    "            if distance >= k:\n",
    "                queue.append([node, distance])\n",
    "                break\n",
    "            parent = mapping[node]\n",
    "            if (parent) and (parent not in visited):\n",
    "                queue.append([parent, distance+1])\n",
    "                visited.append(parent)\n",
    "            if (node.left) and (node.left not in visited):\n",
    "                queue.append([node.left, distance+1])\n",
    "                visited.append(node.left)\n",
    "            if (node.right) and (node.right not in visited):\n",
    "                queue.append([node.right, distance+1])\n",
    "                visited.append(node.right)\n",
    "        res = []\n",
    "        for item in queue:\n",
    "            res.append(item[0].data)\n",
    "        return res"
   ]
  },
  {
   "cell_type": "code",
   "execution_count": 45,
   "id": "43529b9d",
   "metadata": {},
   "outputs": [
    {
     "name": "stdout",
     "output_type": "stream",
     "text": [
      "1\n",
      "2\n",
      "3\n",
      "4\n",
      "5\n",
      "6\n",
      "7\n",
      "43\n"
     ]
    }
   ],
   "source": [
    "bt = bt = BinaryTree()\n",
    "bt.insert(1); bt.insert(2); bt.insert(3); bt.insert(4); bt.insert(5); bt.insert(6); bt.insert(7); bt.insert(43)\n",
    "bt.bfs()"
   ]
  },
  {
   "cell_type": "code",
   "execution_count": 47,
   "id": "4ee0557b",
   "metadata": {},
   "outputs": [
    {
     "data": {
      "text/plain": [
       "[43, 3]"
      ]
     },
     "execution_count": 47,
     "metadata": {},
     "output_type": "execute_result"
    }
   ],
   "source": [
    "bt.distanceK(k=2)"
   ]
  },
  {
   "cell_type": "code",
   "execution_count": null,
   "id": "dfe3a818",
   "metadata": {},
   "outputs": [],
   "source": []
  }
 ],
 "metadata": {
  "kernelspec": {
   "display_name": "dsa",
   "language": "python",
   "name": "python3"
  },
  "language_info": {
   "codemirror_mode": {
    "name": "ipython",
    "version": 3
   },
   "file_extension": ".py",
   "mimetype": "text/x-python",
   "name": "python",
   "nbconvert_exporter": "python",
   "pygments_lexer": "ipython3",
   "version": "3.10.16"
  }
 },
 "nbformat": 4,
 "nbformat_minor": 5
}
