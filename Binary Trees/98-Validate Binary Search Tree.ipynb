{
 "cells": [
  {
   "cell_type": "markdown",
   "id": "61a14b07",
   "metadata": {},
   "source": [
    "# Validate Binary Search Tree"
   ]
  },
  {
   "cell_type": "code",
   "execution_count": null,
   "id": "56471e1c",
   "metadata": {
    "vscode": {
     "languageId": "plaintext"
    }
   },
   "outputs": [],
   "source": [
    "def function(node, int_min, int_max):\n",
    "        if node is None: return True\n",
    "        if (node.val > int_min) and (node.val < int_max):\n",
    "            outA = function(node.left, int_min, node.val)\n",
    "            outB = function(node.right, node.val, int_max)\n",
    "            return outA and outB\n",
    "        else:\n",
    "            return False \n",
    "    return function(root, -float(\"inf\"), float(\"inf\"))\n",
    "\n",
    "function(root, -float(\"inf\"), float(\"inf\"))"
   ]
  }
 ],
 "metadata": {
  "language_info": {
   "name": "python"
  }
 },
 "nbformat": 4,
 "nbformat_minor": 5
}
