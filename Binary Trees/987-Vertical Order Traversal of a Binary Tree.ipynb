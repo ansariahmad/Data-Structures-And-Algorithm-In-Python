{
 "cells": [
  {
   "cell_type": "markdown",
   "id": "38059b21",
   "metadata": {},
   "source": [
    "# Vertical Order Traversal of a Binary Tree"
   ]
  },
  {
   "cell_type": "code",
   "execution_count": 137,
   "id": "0d6be878",
   "metadata": {},
   "outputs": [],
   "source": [
    "class Node:\n",
    "    def __init__(self, data):\n",
    "        self.data = data\n",
    "        self.left = None\n",
    "        self.right = None\n",
    "\n",
    "class BinaryTree:\n",
    "    # constructor\n",
    "    def __init__(self):\n",
    "        self.root = None\n",
    "    \n",
    "    # insert a node\n",
    "    def insert(self, data):\n",
    "        if self.root == None:\n",
    "            self.root = Node(data)\n",
    "            return\n",
    "\n",
    "        new_node = Node(data)\n",
    "        queue = [self.root]\n",
    "        while queue:\n",
    "            cur_node = queue.pop(0)\n",
    "            if cur_node.left == None:\n",
    "                cur_node.left = new_node\n",
    "                return\n",
    "            elif cur_node.right == None:\n",
    "                cur_node.right = new_node\n",
    "                return\n",
    "            else:\n",
    "                queue.append(cur_node.left)\n",
    "                queue.append(cur_node.right)\n",
    "    \n",
    "    # breadth first search / level order traversal\n",
    "    def bfs(self):\n",
    "        if self.root == None:\n",
    "            return\n",
    "        queue = [self.root]\n",
    "        while queue:\n",
    "            cur_node = queue.pop(0)\n",
    "            print(cur_node.data)\n",
    "            if cur_node.left is not None:\n",
    "                queue.append(cur_node.left)\n",
    "            if cur_node.right is not None:\n",
    "                queue.append(cur_node.right)\n",
    "    \n",
    "    def verticalTraversal(self):\n",
    "        queue = [[self.root, 0, 0]]     # [dataue, vertical, level]\n",
    "        map = dict()\n",
    "\n",
    "        while queue:\n",
    "            item = queue.pop(0)\n",
    "            node, vertical, level = item\n",
    "            if vertical not in map:\n",
    "                map[vertical] = {level:[node.data]}\n",
    "            else:\n",
    "                if level not in map[vertical]:\n",
    "                    map[vertical][level] = [node.data]\n",
    "                else:\n",
    "                    map[vertical][level].append(node.data)\n",
    "            if node.left:\n",
    "                queue.append([node.left, vertical-1, level+1])\n",
    "            if node.right:\n",
    "                queue.append([node.right, vertical+1, level+1])\n",
    "        real = []\n",
    "        for vertical in sorted(map):\n",
    "            temp = []\n",
    "            for level in sorted(map[vertical]):\n",
    "                temp.extend(sorted(map[vertical][level]))\n",
    "            real.append(temp)\n",
    "        return real"
   ]
  },
  {
   "cell_type": "code",
   "execution_count": 138,
   "id": "352acfeb",
   "metadata": {},
   "outputs": [],
   "source": [
    "bt = bt = BinaryTree()\n",
    "bt.insert(1); bt.insert(2); bt.insert(3); bt.insert(4); bt.insert(5); bt.insert(6); bt.insert(7);"
   ]
  },
  {
   "cell_type": "code",
   "execution_count": 140,
   "id": "69782780",
   "metadata": {},
   "outputs": [
    {
     "data": {
      "text/plain": [
       "[[4], [2], [1, 5, 6], [3], [7]]"
      ]
     },
     "execution_count": 140,
     "metadata": {},
     "output_type": "execute_result"
    }
   ],
   "source": [
    "output = bt.verticalTraversal()\n",
    "output"
   ]
  }
 ],
 "metadata": {
  "kernelspec": {
   "display_name": "dsa",
   "language": "python",
   "name": "python3"
  },
  "language_info": {
   "codemirror_mode": {
    "name": "ipython",
    "version": 3
   },
   "file_extension": ".py",
   "mimetype": "text/x-python",
   "name": "python",
   "nbconvert_exporter": "python",
   "pygments_lexer": "ipython3",
   "version": "3.10.16"
  }
 },
 "nbformat": 4,
 "nbformat_minor": 5
}
