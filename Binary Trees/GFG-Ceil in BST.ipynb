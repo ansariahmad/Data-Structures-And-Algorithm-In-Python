{
 "cells": [
  {
   "cell_type": "markdown",
   "id": "88f9522f",
   "metadata": {},
   "source": [
    "# Ceil in BST"
   ]
  },
  {
   "cell_type": "code",
   "execution_count": null,
   "id": "7a3c5079",
   "metadata": {
    "vscode": {
     "languageId": "plaintext"
    }
   },
   "outputs": [],
   "source": [
    "def findCeil(self,root, inp):\n",
    "        # code here\n",
    "        node = root\n",
    "        value = -1\n",
    "        # print(root.key)\n",
    "        while node:\n",
    "            if node.key >= inp:\n",
    "                value = node.key\n",
    "            if inp > node.key:\n",
    "                node = node.right\n",
    "            else:\n",
    "                node = node.left\n",
    "        return value"
   ]
  }
 ],
 "metadata": {
  "language_info": {
   "name": "python"
  }
 },
 "nbformat": 4,
 "nbformat_minor": 5
}
