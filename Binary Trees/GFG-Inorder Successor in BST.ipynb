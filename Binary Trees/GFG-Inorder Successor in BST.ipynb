{
 "cells": [
  {
   "cell_type": "markdown",
   "id": "aa0f3536",
   "metadata": {},
   "source": [
    "# Inorder Successor in BST"
   ]
  },
  {
   "cell_type": "code",
   "execution_count": null,
   "id": "cad8cb6b",
   "metadata": {
    "vscode": {
     "languageId": "plaintext"
    }
   },
   "outputs": [],
   "source": [
    "def inorderSuccessor(self, root, x):\n",
    "    # Code here\n",
    "    successor = -1\n",
    "    node = root\n",
    "    while node:\n",
    "        if node.data > x.data:\n",
    "            successor = node.data\n",
    "            node = node.left\n",
    "        else:\n",
    "            node = node.right\n",
    "    return successor"
   ]
  }
 ],
 "metadata": {
  "language_info": {
   "name": "python"
  }
 },
 "nbformat": 4,
 "nbformat_minor": 5
}
