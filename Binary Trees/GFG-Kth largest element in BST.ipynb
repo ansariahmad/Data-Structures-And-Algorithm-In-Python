{
 "cells": [
  {
   "cell_type": "markdown",
   "id": "a8ddadd6",
   "metadata": {},
   "source": [
    "# Kth largest element in BST"
   ]
  },
  {
   "cell_type": "code",
   "execution_count": 2,
   "id": "4d9c1969",
   "metadata": {},
   "outputs": [],
   "source": [
    "def kthLargest(self,root, k):\n",
    "    #your code here\n",
    "    count = 0\n",
    "    val = float(\"inf\")\n",
    "    def inorder(node):\n",
    "        nonlocal count, val\n",
    "        if node is None:\n",
    "            return\n",
    "        if val != float(\"inf\"):\n",
    "            return\n",
    "        inorder(node.right)\n",
    "        count += 1\n",
    "        if count == k:\n",
    "            val = node.data\n",
    "        inorder(node.left)\n",
    "    \n",
    "    inorder(root)\n",
    "    return val"
   ]
  },
  {
   "cell_type": "code",
   "execution_count": null,
   "id": "cce51ffa",
   "metadata": {},
   "outputs": [],
   "source": []
  }
 ],
 "metadata": {
  "kernelspec": {
   "display_name": "dsa",
   "language": "python",
   "name": "python3"
  },
  "language_info": {
   "codemirror_mode": {
    "name": "ipython",
    "version": 3
   },
   "file_extension": ".py",
   "mimetype": "text/x-python",
   "name": "python",
   "nbconvert_exporter": "python",
   "pygments_lexer": "ipython3",
   "version": "3.10.16"
  }
 },
 "nbformat": 4,
 "nbformat_minor": 5
}
