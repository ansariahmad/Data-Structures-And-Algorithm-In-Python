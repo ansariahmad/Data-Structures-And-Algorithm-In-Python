{
 "cells": [
  {
   "cell_type": "markdown",
   "id": "56b01974",
   "metadata": {},
   "source": [
    "# Top View of Binary Tree"
   ]
  },
  {
   "cell_type": "code",
   "execution_count": 7,
   "id": "fbbfd489",
   "metadata": {},
   "outputs": [],
   "source": [
    "class Node:\n",
    "    def __init__(self, data):\n",
    "        self.data = data\n",
    "        self.left = None\n",
    "        self.right = None\n",
    "\n",
    "class BinaryTree:\n",
    "    # constructor\n",
    "    def __init__(self):\n",
    "        self.root = None\n",
    "    \n",
    "    # insert a node\n",
    "    def insert(self, data):\n",
    "        if self.root == None:\n",
    "            self.root = Node(data)\n",
    "            return\n",
    "\n",
    "        new_node = Node(data)\n",
    "        queue = [self.root]\n",
    "        while queue:\n",
    "            cur_node = queue.pop(0)\n",
    "            if cur_node.left == None:\n",
    "                cur_node.left = new_node\n",
    "                return\n",
    "            elif cur_node.right == None:\n",
    "                cur_node.right = new_node\n",
    "                return\n",
    "            else:\n",
    "                queue.append(cur_node.left)\n",
    "                queue.append(cur_node.right)\n",
    "    \n",
    "    # breadth first search / level order traversal\n",
    "    def bfs(self):\n",
    "        if self.root == None:\n",
    "            return\n",
    "        queue = [self.root]\n",
    "        while queue:\n",
    "            cur_node = queue.pop(0)\n",
    "            print(cur_node.data)\n",
    "            if cur_node.left is not None:\n",
    "                queue.append(cur_node.left)\n",
    "            if cur_node.right is not None:\n",
    "                queue.append(cur_node.right)\n",
    "    \n",
    "    # top-view of binary tree\n",
    "    def topView(self):\n",
    "        queue = [[self.root, 0]]\n",
    "        map = dict()\n",
    "        while queue:\n",
    "            node, vertical_pos = queue.pop(0)\n",
    "            if vertical_pos not in map:\n",
    "                map[vertical_pos] = node.data\n",
    "            if node.left:\n",
    "                queue.append([node.left, vertical_pos-1])\n",
    "            if node.right:\n",
    "                queue.append([node.right, vertical_pos+1])\n",
    "        \n",
    "        return [map[vertical_pos] for vertical_pos in sorted(map)]\n"
   ]
  },
  {
   "cell_type": "code",
   "execution_count": 14,
   "id": "23f6d0cb",
   "metadata": {},
   "outputs": [],
   "source": [
    "bt = bt = BinaryTree()\n",
    "bt.insert(1); bt.insert(2); bt.insert(3); bt.insert(4); bt.insert(5); bt.insert(6); bt.insert(7);"
   ]
  },
  {
   "cell_type": "code",
   "execution_count": null,
   "id": "c79b2a4b",
   "metadata": {},
   "outputs": [
    {
     "name": "stdout",
     "output_type": "stream",
     "text": [
      "1\n",
      "2\n",
      "3\n",
      "4\n",
      "5\n",
      "6\n",
      "7\n"
     ]
    }
   ],
   "source": [
    "bt.bfs()"
   ]
  },
  {
   "cell_type": "code",
   "execution_count": 16,
   "id": "d862233b",
   "metadata": {},
   "outputs": [
    {
     "data": {
      "text/plain": [
       "[4, 2, 1, 3, 7]"
      ]
     },
     "execution_count": 16,
     "metadata": {},
     "output_type": "execute_result"
    }
   ],
   "source": [
    "bt.topView()"
   ]
  },
  {
   "cell_type": "code",
   "execution_count": null,
   "id": "b7930b9b",
   "metadata": {},
   "outputs": [],
   "source": []
  }
 ],
 "metadata": {
  "kernelspec": {
   "display_name": "dsa",
   "language": "python",
   "name": "python3"
  },
  "language_info": {
   "codemirror_mode": {
    "name": "ipython",
    "version": 3
   },
   "file_extension": ".py",
   "mimetype": "text/x-python",
   "name": "python",
   "nbconvert_exporter": "python",
   "pygments_lexer": "ipython3",
   "version": "3.10.16"
  }
 },
 "nbformat": 4,
 "nbformat_minor": 5
}
