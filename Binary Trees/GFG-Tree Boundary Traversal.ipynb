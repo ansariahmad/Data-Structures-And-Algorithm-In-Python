{
 "cells": [
  {
   "cell_type": "markdown",
   "id": "2be662c2",
   "metadata": {},
   "source": [
    "# Tree Boundary Traversal"
   ]
  },
  {
   "cell_type": "code",
   "execution_count": null,
   "id": "0453505f",
   "metadata": {},
   "outputs": [],
   "source": [
    "class Node:\n",
    "    def __init__(self, data):\n",
    "        self.data = data\n",
    "        self.left = None\n",
    "        self.right = None\n",
    "\n",
    "class BinaryTree:\n",
    "    # constructor\n",
    "    def __init__(self):\n",
    "        self.root = None\n",
    "    \n",
    "    # insert a node\n",
    "    def insert(self, data):\n",
    "        if self.root == None:\n",
    "            self.root = Node(data)\n",
    "            return\n",
    "\n",
    "        new_node = Node(data)\n",
    "        queue = [self.root]\n",
    "        while queue:\n",
    "            cur_node = queue.pop(0)\n",
    "            if cur_node.left == None:\n",
    "                cur_node.left = new_node\n",
    "                return\n",
    "            elif cur_node.right == None:\n",
    "                cur_node.right = new_node\n",
    "                return\n",
    "            else:\n",
    "                queue.append(cur_node.left)\n",
    "                queue.append(cur_node.right)\n",
    "    \n",
    "    # breadth first search / level order traversal\n",
    "    def bfs(self):\n",
    "        if self.root == None:\n",
    "            return\n",
    "        queue = [self.root]\n",
    "        while queue:\n",
    "            cur_node = queue.pop(0)\n",
    "            print(cur_node.data)\n",
    "            if cur_node.left is not None:\n",
    "                queue.append(cur_node.left)\n",
    "            if cur_node.right is not None:\n",
    "                queue.append(cur_node.right)\n",
    "    \n",
    "    def inorderTraversalOnlyChild(self):\n",
    "        output = []\n",
    "        def inorder(node):\n",
    "            nonlocal output\n",
    "            if node is None:\n",
    "                return\n",
    "            inorder(node.left)\n",
    "            if (node.left is None) and (node.right is None):\n",
    "                output.append(node.data)\n",
    "            inorder(node.right)\n",
    "        \n",
    "        inorder(self.root)\n",
    "        return output\n",
    "\n",
    "    # boundry traversal\n",
    "    def boundaryTraversal(self):\n",
    "        output = [self.root.data]\n",
    "        cur_node = self.root\n",
    "        if cur_node.left:\n",
    "            while cur_node is not None:\n",
    "                if cur_node.left:\n",
    "                    cur_node = cur_node.left\n",
    "                elif cur_node.right:\n",
    "                    cur_node = cur_node.right\n",
    "                else:\n",
    "                    cur_node = cur_node.left\n",
    "                    continue\n",
    "                if (cur_node.left is None) and (cur_node.right is None):\n",
    "                    cur_node = cur_node.left\n",
    "                    continue\n",
    "                output.append(cur_node.data)\n",
    "        \n",
    "        if (self.root.left is not None) or (self.root.right is not None):\n",
    "            output.extend(self.inorderTraversalOnlyChild(self.root))\n",
    "        \n",
    "        cur_node = self.root\n",
    "        right_output = []\n",
    "        if cur_node.right:\n",
    "            while cur_node is not None:\n",
    "                if cur_node.right:\n",
    "                    cur_node = cur_node.right\n",
    "                elif cur_node.left:\n",
    "                    cur_node = cur_node.left\n",
    "                else:\n",
    "                    cur_node = cur_node.left\n",
    "                    continue\n",
    "                if (cur_node.left is None) and (cur_node.right is None):\n",
    "                    cur_node = cur_node.left\n",
    "                    continue\n",
    "                right_output.append(cur_node.data)\n",
    "        output.extend(right_output[::-1])\n",
    "        return output"
   ]
  },
  {
   "cell_type": "code",
   "execution_count": 74,
   "id": "dbca4646",
   "metadata": {},
   "outputs": [],
   "source": [
    "bt = bt = BinaryTree()\n",
    "bt.insert(5); bt.insert(4); bt.insert(43); bt.insert(1); bt.insert(1); bt.insert(2); bt.insert(3); bt.insert(45)"
   ]
  },
  {
   "cell_type": "code",
   "execution_count": 75,
   "id": "8cdb077d",
   "metadata": {},
   "outputs": [
    {
     "name": "stdout",
     "output_type": "stream",
     "text": [
      "5\n",
      "4\n",
      "43\n",
      "1\n",
      "1\n",
      "2\n",
      "3\n",
      "45\n"
     ]
    }
   ],
   "source": [
    "bt.bfs()"
   ]
  },
  {
   "cell_type": "code",
   "execution_count": 76,
   "id": "b5a6b314",
   "metadata": {},
   "outputs": [
    {
     "data": {
      "text/plain": [
       "[5, 4, 1, 45, 1, 2, 3, 43]"
      ]
     },
     "execution_count": 76,
     "metadata": {},
     "output_type": "execute_result"
    }
   ],
   "source": [
    "bt.boundaryTraversal()"
   ]
  },
  {
   "cell_type": "code",
   "execution_count": null,
   "id": "08550941",
   "metadata": {},
   "outputs": [],
   "source": []
  }
 ],
 "metadata": {
  "kernelspec": {
   "display_name": "dsa",
   "language": "python",
   "name": "python3"
  },
  "language_info": {
   "codemirror_mode": {
    "name": "ipython",
    "version": 3
   },
   "file_extension": ".py",
   "mimetype": "text/x-python",
   "name": "python",
   "nbconvert_exporter": "python",
   "pygments_lexer": "ipython3",
   "version": "3.10.16"
  }
 },
 "nbformat": 4,
 "nbformat_minor": 5
}
