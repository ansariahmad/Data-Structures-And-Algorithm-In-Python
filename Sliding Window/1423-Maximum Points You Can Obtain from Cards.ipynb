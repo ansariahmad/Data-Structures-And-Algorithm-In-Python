{
 "cells": [
  {
   "cell_type": "markdown",
   "id": "0c157036",
   "metadata": {},
   "source": [
    "# Maximum Points You Can Obtain from Cards"
   ]
  },
  {
   "cell_type": "code",
   "execution_count": 8,
   "id": "5f6fd38c",
   "metadata": {},
   "outputs": [],
   "source": [
    "cardPoints = [9,7,7,9,7,7,9]\n",
    "k = 7"
   ]
  },
  {
   "cell_type": "code",
   "execution_count": 9,
   "id": "89179344",
   "metadata": {},
   "outputs": [
    {
     "name": "stdout",
     "output_type": "stream",
     "text": [
      "55\n"
     ]
    }
   ],
   "source": [
    "leftSum = sum(cardPoints[:k])\n",
    "rightSum = 0\n",
    "maxSum = leftSum\n",
    "idxL = k-1\n",
    "for idx in range(-1, -(k+1), -1):\n",
    "    leftSum -= cardPoints[idxL]\n",
    "    rightSum += cardPoints[idx]\n",
    "    maxSum = max(maxSum, leftSum+rightSum)\n",
    "    idxL -= 1\n",
    "print(maxSum)"
   ]
  },
  {
   "cell_type": "code",
   "execution_count": null,
   "id": "723ea449",
   "metadata": {},
   "outputs": [],
   "source": []
  }
 ],
 "metadata": {
  "kernelspec": {
   "display_name": "dsa",
   "language": "python",
   "name": "python3"
  },
  "language_info": {
   "codemirror_mode": {
    "name": "ipython",
    "version": 3
   },
   "file_extension": ".py",
   "mimetype": "text/x-python",
   "name": "python",
   "nbconvert_exporter": "python",
   "pygments_lexer": "ipython3",
   "version": "3.10.16"
  }
 },
 "nbformat": 4,
 "nbformat_minor": 5
}
