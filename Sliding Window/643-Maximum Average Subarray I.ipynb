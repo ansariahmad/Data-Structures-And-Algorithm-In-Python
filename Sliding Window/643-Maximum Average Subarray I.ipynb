{
 "cells": [
  {
   "cell_type": "markdown",
   "id": "d1b99a7c",
   "metadata": {},
   "source": [
    "# Maximum Average Subarray I"
   ]
  },
  {
   "cell_type": "code",
   "execution_count": 19,
   "id": "1cc5ec33",
   "metadata": {},
   "outputs": [],
   "source": [
    "nums = [5]\n",
    "k = 1\n",
    "total = sum(nums[:k])\n",
    "average = total/k"
   ]
  },
  {
   "cell_type": "code",
   "execution_count": 20,
   "id": "7076074f",
   "metadata": {},
   "outputs": [
    {
     "name": "stdout",
     "output_type": "stream",
     "text": [
      "5.0\n"
     ]
    }
   ],
   "source": [
    "for i in range(0, len(nums)-k):\n",
    "    total -= nums[i]\n",
    "    total += nums[i+k]\n",
    "    average = max(average, total/k)\n",
    "    # print(i, nums[i], nums[i+k])\n",
    "print(average)"
   ]
  },
  {
   "cell_type": "code",
   "execution_count": null,
   "id": "6f021165",
   "metadata": {},
   "outputs": [],
   "source": []
  }
 ],
 "metadata": {
  "kernelspec": {
   "display_name": "dsa",
   "language": "python",
   "name": "python3"
  },
  "language_info": {
   "codemirror_mode": {
    "name": "ipython",
    "version": 3
   },
   "file_extension": ".py",
   "mimetype": "text/x-python",
   "name": "python",
   "nbconvert_exporter": "python",
   "pygments_lexer": "ipython3",
   "version": "3.10.16"
  }
 },
 "nbformat": 4,
 "nbformat_minor": 5
}
