{
 "cells": [
  {
   "cell_type": "markdown",
   "id": "d383581f",
   "metadata": {},
   "source": [
    "# Implement Stack using Queues"
   ]
  },
  {
   "cell_type": "code",
   "execution_count": 32,
   "id": "ccfeb190",
   "metadata": {},
   "outputs": [],
   "source": [
    "class Stack(Queue):\n",
    "    def __init__(self):\n",
    "        self.queue = []\n",
    "        self.current_size = 0\n",
    "    \n",
    "    def push(self, val):\n",
    "        if self.current_size == 0:\n",
    "            self.queue.append(val)\n",
    "            self.current_size += 1\n",
    "        else:\n",
    "            queue2 = []\n",
    "            while self.queue:\n",
    "                queue2.append(self.queue.pop(0))\n",
    "            \n",
    "            self.queue.append(val)\n",
    "            while queue2:\n",
    "                self.queue.append(queue2.pop(0))\n",
    "        \n",
    "        self.current_size += 1\n",
    "    \n",
    "    def pop(self):\n",
    "        if self.current_size == 0: print(\"Stack is empty.\")\n",
    "        else:\n",
    "            first_element = self.queue.pop(0)\n",
    "            self.current_size -= 1\n",
    "            return first_element\n",
    "    \n",
    "    def top(self):\n",
    "        if self.current_size == 0: print(\"Stack is empty.\")\n",
    "        else:\n",
    "            return self.queue[0]"
   ]
  },
  {
   "cell_type": "code",
   "execution_count": 33,
   "id": "3b5bf18b",
   "metadata": {},
   "outputs": [],
   "source": [
    "stack = Stack()\n",
    "stack.push(1)\n",
    "stack.push(2)\n",
    "stack.push(9)\n",
    "stack.push(100)"
   ]
  },
  {
   "cell_type": "code",
   "execution_count": 34,
   "id": "ab3eec68",
   "metadata": {},
   "outputs": [
    {
     "data": {
      "text/plain": [
       "100"
      ]
     },
     "execution_count": 34,
     "metadata": {},
     "output_type": "execute_result"
    }
   ],
   "source": [
    "stack.pop()"
   ]
  },
  {
   "cell_type": "code",
   "execution_count": null,
   "id": "d2095b51",
   "metadata": {},
   "outputs": [],
   "source": []
  }
 ],
 "metadata": {
  "kernelspec": {
   "display_name": "dsa",
   "language": "python",
   "name": "python3"
  },
  "language_info": {
   "codemirror_mode": {
    "name": "ipython",
    "version": 3
   },
   "file_extension": ".py",
   "mimetype": "text/x-python",
   "name": "python",
   "nbconvert_exporter": "python",
   "pygments_lexer": "ipython3",
   "version": "3.10.16"
  }
 },
 "nbformat": 4,
 "nbformat_minor": 5
}
