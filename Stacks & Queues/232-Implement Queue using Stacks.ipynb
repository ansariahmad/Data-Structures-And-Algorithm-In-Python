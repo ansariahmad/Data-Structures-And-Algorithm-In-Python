{
 "cells": [
  {
   "cell_type": "markdown",
   "id": "88214604",
   "metadata": {},
   "source": [
    "# Implement Queue using Stacks"
   ]
  },
  {
   "cell_type": "code",
   "execution_count": 6,
   "id": "8dd693ba",
   "metadata": {},
   "outputs": [],
   "source": [
    "class Queue():\n",
    "    def __init__(self):\n",
    "        self.stack1 = []\n",
    "        self.stack2 = []\n",
    "        self.size = 0\n",
    "    \n",
    "    def push(self, x):\n",
    "        if self.size == 0:\n",
    "            self.stack1.append(x)\n",
    "            self.size += 1\n",
    "        else:\n",
    "            while self.stack1:\n",
    "                self.stack2.append(self.stack1.pop(0))\n",
    "            self.stack1.append(x)\n",
    "            while self.stack2:\n",
    "                self.stack1.append(self.stack2.pop(0))\n",
    "            self.size += 1\n",
    "        return\n",
    "    \n",
    "    def pop(self):\n",
    "        self.size -= 1\n",
    "        return self.stack1.pop(-1)\n",
    "    \n",
    "    def peek(self):\n",
    "        return self.stack1[-1]\n",
    "    \n",
    "    def empty(self):\n",
    "        return self.size == 0"
   ]
  },
  {
   "cell_type": "code",
   "execution_count": 11,
   "id": "2172f2c8",
   "metadata": {},
   "outputs": [],
   "source": [
    "queue = Queue()\n",
    "queue.push(1)\n",
    "queue.push(2)\n",
    "queue.push(100)"
   ]
  },
  {
   "cell_type": "code",
   "execution_count": 16,
   "id": "5a814248",
   "metadata": {},
   "outputs": [
    {
     "data": {
      "text/plain": [
       "100"
      ]
     },
     "execution_count": 16,
     "metadata": {},
     "output_type": "execute_result"
    }
   ],
   "source": [
    "queue.pop()"
   ]
  },
  {
   "cell_type": "code",
   "execution_count": 15,
   "id": "a9e9a109",
   "metadata": {},
   "outputs": [
    {
     "data": {
      "text/plain": [
       "100"
      ]
     },
     "execution_count": 15,
     "metadata": {},
     "output_type": "execute_result"
    }
   ],
   "source": [
    "queue.peek()"
   ]
  },
  {
   "cell_type": "code",
   "execution_count": null,
   "id": "b877e8c7",
   "metadata": {},
   "outputs": [],
   "source": []
  }
 ],
 "metadata": {
  "kernelspec": {
   "display_name": "dsa",
   "language": "python",
   "name": "python3"
  },
  "language_info": {
   "codemirror_mode": {
    "name": "ipython",
    "version": 3
   },
   "file_extension": ".py",
   "mimetype": "text/x-python",
   "name": "python",
   "nbconvert_exporter": "python",
   "pygments_lexer": "ipython3",
   "version": "3.10.16"
  }
 },
 "nbformat": 4,
 "nbformat_minor": 5
}
