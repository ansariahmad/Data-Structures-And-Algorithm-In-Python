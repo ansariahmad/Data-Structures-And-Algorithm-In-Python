{
 "cells": [
  {
   "cell_type": "markdown",
   "id": "537662e0",
   "metadata": {},
   "source": [
    "# Introduction to Stack and Queue"
   ]
  },
  {
   "cell_type": "markdown",
   "id": "4f1932b0",
   "metadata": {},
   "source": [
    "## Stack"
   ]
  },
  {
   "cell_type": "code",
   "execution_count": 28,
   "id": "52e907b2",
   "metadata": {},
   "outputs": [],
   "source": [
    "class Stack():\n",
    "\n",
    "    def __init__(self):\n",
    "        self.stack = []\n",
    "        self.top_idx = -1\n",
    "\n",
    "    def push(self, val):\n",
    "        self.stack.append(val)\n",
    "        self.top_idx += 1\n",
    "\n",
    "    def pop(self):\n",
    "        if self.top_idx == -1: print(\"Stack is empty\")\n",
    "        else:\n",
    "            top_element = self.stack.pop()\n",
    "            self.top_idx -= 1\n",
    "            return top_element\n",
    "        \n",
    "    def top(self):\n",
    "        if self.top_idx == -1: print(\"Stack is empty\")\n",
    "        else: return self.stack[self.top_idx]\n",
    "\n",
    "    def size(self):\n",
    "        return len(self.stack)"
   ]
  },
  {
   "cell_type": "code",
   "execution_count": 32,
   "id": "3233b9c1",
   "metadata": {},
   "outputs": [
    {
     "data": {
      "text/plain": [
       "1"
      ]
     },
     "execution_count": 32,
     "metadata": {},
     "output_type": "execute_result"
    }
   ],
   "source": [
    "stack = Stack()\n",
    "stack.push(1)\n",
    "stack.top()"
   ]
  },
  {
   "cell_type": "code",
   "execution_count": 34,
   "id": "4137de55",
   "metadata": {},
   "outputs": [
    {
     "data": {
      "text/plain": [
       "[1]"
      ]
     },
     "execution_count": 34,
     "metadata": {},
     "output_type": "execute_result"
    }
   ],
   "source": [
    "stack.push(3)\n",
    "stack.pop()\n",
    "stack.stack"
   ]
  },
  {
   "cell_type": "markdown",
   "id": "1addd35e",
   "metadata": {},
   "source": [
    "## Queue"
   ]
  },
  {
   "cell_type": "code",
   "execution_count": 21,
   "id": "9e0e038e",
   "metadata": {},
   "outputs": [],
   "source": [
    "class Queue():\n",
    "    def __init__(self):\n",
    "        self.queue = []\n",
    "        self.current_size = 0\n",
    "    \n",
    "    def enqueue(self, val):\n",
    "        self.queue.append(val)\n",
    "        self.current_size += 1\n",
    "    def dequeue(self):\n",
    "        if self.current_size == 0: print(\"Queue is empty.\")\n",
    "        else:\n",
    "            first_element = self.queue.pop(0)\n",
    "            self.current_size -= 1\n",
    "            return first_element\n",
    "    def top(self):\n",
    "        if self.current_size == 0: print(\"Queue is empty.\")\n",
    "        else:\n",
    "            return self.queue[0]\n",
    "    def size(self):\n",
    "        return self.current_size"
   ]
  },
  {
   "cell_type": "code",
   "execution_count": 27,
   "id": "829fe8fa",
   "metadata": {},
   "outputs": [
    {
     "name": "stdout",
     "output_type": "stream",
     "text": [
      "1\n"
     ]
    },
    {
     "data": {
      "text/plain": [
       "[2]"
      ]
     },
     "execution_count": 27,
     "metadata": {},
     "output_type": "execute_result"
    }
   ],
   "source": [
    "queue = Queue()\n",
    "queue.enqueue(1)\n",
    "queue.enqueue(2)\n",
    "print(queue.top())\n",
    "queue.dequeue()\n",
    "queue.top()\n",
    "queue.queue"
   ]
  },
  {
   "cell_type": "code",
   "execution_count": null,
   "id": "3a08d3bc",
   "metadata": {},
   "outputs": [],
   "source": []
  }
 ],
 "metadata": {
  "kernelspec": {
   "display_name": "dsa",
   "language": "python",
   "name": "python3"
  },
  "language_info": {
   "codemirror_mode": {
    "name": "ipython",
    "version": 3
   },
   "file_extension": ".py",
   "mimetype": "text/x-python",
   "name": "python",
   "nbconvert_exporter": "python",
   "pygments_lexer": "ipython3",
   "version": "3.10.16"
  }
 },
 "nbformat": 4,
 "nbformat_minor": 5
}
