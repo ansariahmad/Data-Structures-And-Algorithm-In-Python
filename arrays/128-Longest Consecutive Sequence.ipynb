{
 "cells": [
  {
   "cell_type": "markdown",
   "metadata": {},
   "source": [
    "## 128 Longest Consecutive Sequence"
   ]
  },
  {
   "cell_type": "code",
   "execution_count": 17,
   "metadata": {},
   "outputs": [],
   "source": [
    "def longestConsecutive(nums: list[int]) -> int:\n",
    "    nums.sort()\n",
    "    length = max_length = float('-inf')\n",
    "    prev = nums[0]-1\n",
    "    for idx in range(0, len(nums)):\n",
    "        if nums[idx] == prev:\n",
    "            continue\n",
    "        elif nums[idx] == prev+1:\n",
    "            prev = nums[idx]\n",
    "            length += 1\n",
    "            max_length = max(length, max_length)\n",
    "        else:\n",
    "            prev = nums[idx]\n",
    "            length = 1\n",
    "            max_length = max(length, max_length)\n",
    "    return max_length"
   ]
  },
  {
   "cell_type": "code",
   "execution_count": 18,
   "metadata": {},
   "outputs": [
    {
     "data": {
      "text/plain": [
       "5"
      ]
     },
     "execution_count": 18,
     "metadata": {},
     "output_type": "execute_result"
    }
   ],
   "source": [
    "nums = [0, 2, 4, 5, 6, 7, -1, -8, -4, -3, -2]\n",
    "longestConsecutive(nums)"
   ]
  },
  {
   "cell_type": "code",
   "execution_count": null,
   "metadata": {},
   "outputs": [],
   "source": []
  }
 ],
 "metadata": {
  "kernelspec": {
   "display_name": "Python 3",
   "language": "python",
   "name": "python3"
  },
  "language_info": {
   "codemirror_mode": {
    "name": "ipython",
    "version": 3
   },
   "file_extension": ".py",
   "mimetype": "text/x-python",
   "name": "python",
   "nbconvert_exporter": "python",
   "pygments_lexer": "ipython3",
   "version": "3.12.7"
  }
 },
 "nbformat": 4,
 "nbformat_minor": 2
}
