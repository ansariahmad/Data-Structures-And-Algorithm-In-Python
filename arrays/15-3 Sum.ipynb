{
 "cells": [
  {
   "cell_type": "markdown",
   "metadata": {},
   "source": [
    "## 15 Three Sum"
   ]
  },
  {
   "cell_type": "markdown",
   "metadata": {},
   "source": [
    "### With Hashing"
   ]
  },
  {
   "cell_type": "code",
   "execution_count": 9,
   "metadata": {},
   "outputs": [],
   "source": [
    "def threeSum(nums: list[int]) -> list[int]:\n",
    "    output_list = []\n",
    "    for i in range(0, len(nums)):\n",
    "        hashmap = []\n",
    "        for j in range(i+1, len(nums)):\n",
    "            total =  -(nums[i]+nums[j]) \n",
    "            if total in hashmap:\n",
    "                res = sorted([nums[i], nums[j], total])\n",
    "                if res not in output_list:\n",
    "                    output_list.append(res)\n",
    "            hashmap.append(nums[j])\n",
    "\n",
    "    return output_list"
   ]
  },
  {
   "cell_type": "code",
   "execution_count": 10,
   "metadata": {},
   "outputs": [
    {
     "data": {
      "text/plain": [
       "[[-1, 0, 1], [-1, -1, 2]]"
      ]
     },
     "execution_count": 10,
     "metadata": {},
     "output_type": "execute_result"
    }
   ],
   "source": [
    "nums = [-1,0,1,2,-1,-4]\n",
    "threeSum(nums)"
   ]
  },
  {
   "cell_type": "markdown",
   "metadata": {},
   "source": [
    "## Two Pointers Approach"
   ]
  },
  {
   "cell_type": "code",
   "execution_count": 28,
   "metadata": {},
   "outputs": [],
   "source": [
    "def threeSum(nums: list[int]) -> list[[int]]:\n",
    "    res = []\n",
    "    nums.sort()\n",
    "\n",
    "    for i in range(len(nums)):\n",
    "        if i > 0 and nums[i] == nums[i-1]:\n",
    "            continue\n",
    "        \n",
    "        j = i + 1\n",
    "        k = len(nums) - 1\n",
    "\n",
    "        while j < k:\n",
    "            total = nums[i] + nums[j] + nums[k]\n",
    "\n",
    "            if total > 0:\n",
    "                k -= 1\n",
    "            elif total < 0:\n",
    "                j += 1\n",
    "            else:\n",
    "                res.append([nums[i], nums[j], nums[k]])\n",
    "                j += 1\n",
    "\n",
    "                while nums[j] == nums[j-1] and j < k:\n",
    "                    j += 1\n",
    "    \n",
    "    return res"
   ]
  },
  {
   "cell_type": "code",
   "execution_count": 29,
   "metadata": {},
   "outputs": [
    {
     "data": {
      "text/plain": [
       "[[-2, -1, 3], [-2, 1, 1], [-1, 0, 1]]"
      ]
     },
     "execution_count": 29,
     "metadata": {},
     "output_type": "execute_result"
    }
   ],
   "source": [
    "nums = [0,1,1, -1, -2, -2, 3]\n",
    "threeSum(nums)"
   ]
  },
  {
   "cell_type": "code",
   "execution_count": null,
   "metadata": {},
   "outputs": [],
   "source": []
  }
 ],
 "metadata": {
  "kernelspec": {
   "display_name": "Python 3",
   "language": "python",
   "name": "python3"
  },
  "language_info": {
   "codemirror_mode": {
    "name": "ipython",
    "version": 3
   },
   "file_extension": ".py",
   "mimetype": "text/x-python",
   "name": "python",
   "nbconvert_exporter": "python",
   "pygments_lexer": "ipython3",
   "version": "3.12.7"
  }
 },
 "nbformat": 4,
 "nbformat_minor": 2
}
