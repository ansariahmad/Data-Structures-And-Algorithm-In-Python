{
 "cells": [
  {
   "cell_type": "markdown",
   "metadata": {},
   "source": [
    "## 152 Maximum Product Subarray"
   ]
  },
  {
   "cell_type": "code",
   "execution_count": 25,
   "metadata": {},
   "outputs": [],
   "source": [
    "def maxProduct(nums: list[int]) -> int:\n",
    "    postProd = preProd = 1\n",
    "    maxProd = float('-inf')\n",
    "    start = 0\n",
    "    n = len(nums)\n",
    "    # end = len(nums)-1 \n",
    "    while start <= n-1:\n",
    "        preProd *= nums[start]\n",
    "        postProd *= nums[n-start-1]\n",
    "        maxProd = max(maxProd, max(postProd, preProd))\n",
    "        if preProd == 0: preProd = 1\n",
    "        if postProd == 0: postProd = 1\n",
    "        # print(f\"{start}-->{preProd}, {postProd}, {maxProd}\")\n",
    "        start += 1\n",
    "\n",
    "    return maxProd"
   ]
  },
  {
   "cell_type": "code",
   "execution_count": 26,
   "metadata": {},
   "outputs": [
    {
     "data": {
      "text/plain": [
       "140"
      ]
     },
     "execution_count": 26,
     "metadata": {},
     "output_type": "execute_result"
    }
   ],
   "source": [
    "nums = [2,3,-1,0,-4,-5,7] \n",
    "maxProduct(nums)"
   ]
  },
  {
   "cell_type": "code",
   "execution_count": null,
   "metadata": {},
   "outputs": [],
   "source": []
  }
 ],
 "metadata": {
  "kernelspec": {
   "display_name": "Python 3",
   "language": "python",
   "name": "python3"
  },
  "language_info": {
   "codemirror_mode": {
    "name": "ipython",
    "version": 3
   },
   "file_extension": ".py",
   "mimetype": "text/x-python",
   "name": "python",
   "nbconvert_exporter": "python",
   "pygments_lexer": "ipython3",
   "version": "3.12.7"
  }
 },
 "nbformat": 4,
 "nbformat_minor": 2
}
