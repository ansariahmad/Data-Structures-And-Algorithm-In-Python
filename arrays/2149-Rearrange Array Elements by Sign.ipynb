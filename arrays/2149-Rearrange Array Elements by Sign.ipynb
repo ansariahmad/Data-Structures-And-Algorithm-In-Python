{
 "cells": [
  {
   "cell_type": "markdown",
   "metadata": {},
   "source": [
    "## 2149 Rearrange Array Elements by Sign"
   ]
  },
  {
   "cell_type": "code",
   "execution_count": 3,
   "metadata": {},
   "outputs": [],
   "source": [
    "def rearrangeElements(nums: list[int]) -> list[int]:\n",
    "    tempList = [0]*len(nums)\n",
    "    posIdx = 0\n",
    "    negIdx = 1\n",
    "    for idx in range(0, len(nums)):\n",
    "        if nums[idx] >= 0:\n",
    "            tempList[posIdx] = nums[idx]\n",
    "            posIdx += 2\n",
    "        else:\n",
    "            tempList[negIdx] = nums[idx]\n",
    "            negIdx += 2\n",
    "    return tempList"
   ]
  },
  {
   "cell_type": "code",
   "execution_count": 4,
   "metadata": {},
   "outputs": [
    {
     "data": {
      "text/plain": [
       "[3, -2, 1, -5, 2, -4]"
      ]
     },
     "execution_count": 4,
     "metadata": {},
     "output_type": "execute_result"
    }
   ],
   "source": [
    "nums = [3,1,-2,-5,2,-4]\n",
    "rearrangeElements(nums)"
   ]
  }
 ],
 "metadata": {
  "kernelspec": {
   "display_name": "Python 3",
   "language": "python",
   "name": "python3"
  },
  "language_info": {
   "codemirror_mode": {
    "name": "ipython",
    "version": 3
   },
   "file_extension": ".py",
   "mimetype": "text/x-python",
   "name": "python",
   "nbconvert_exporter": "python",
   "pygments_lexer": "ipython3",
   "version": "3.12.7"
  }
 },
 "nbformat": 4,
 "nbformat_minor": 2
}
