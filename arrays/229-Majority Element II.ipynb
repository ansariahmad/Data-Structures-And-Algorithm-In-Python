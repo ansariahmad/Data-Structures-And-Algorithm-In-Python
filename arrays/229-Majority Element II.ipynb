{
 "cells": [
  {
   "cell_type": "markdown",
   "metadata": {},
   "source": [
    "## 229 Majority Element II"
   ]
  },
  {
   "cell_type": "code",
   "execution_count": 11,
   "metadata": {},
   "outputs": [],
   "source": [
    "def majorityElement(nums: list[int]) -> list[int]:\n",
    "    eleA = eleB = 0\n",
    "    counterA = counterB = 0\n",
    "\n",
    "    for ind in range(0, len(nums)):\n",
    "        if (counterA == 0) and (nums[ind] != eleB):\n",
    "            eleA = nums[ind]\n",
    "            counterA += 1\n",
    "        elif (counterB == 0) and (nums[ind] != eleA):\n",
    "            eleB = nums[ind]\n",
    "            counterB += 1\n",
    "        elif nums[ind] == eleA: counterA += 1\n",
    "        elif nums[ind] == eleB: counterB += 1\n",
    "        else:\n",
    "            counterA -= 1\n",
    "            counterB -= 1\n",
    "    \n",
    "    counterA = counterB = 0\n",
    "    output = []\n",
    "    for ind in range(0, len(nums)):\n",
    "        if nums[ind] == eleA: counterA += 1\n",
    "        if nums[ind] == eleB: counterB += 1\n",
    "    maxi = len(nums)/3\n",
    "    if counterA > maxi: output.append(eleA)\n",
    "    if counterB > maxi: output.append(eleB)\n",
    "    output = list(set(output))\n",
    "    return output"
   ]
  },
  {
   "cell_type": "code",
   "execution_count": 12,
   "metadata": {},
   "outputs": [
    {
     "data": {
      "text/plain": [
       "[1, 2]"
      ]
     },
     "execution_count": 12,
     "metadata": {},
     "output_type": "execute_result"
    }
   ],
   "source": [
    "nums = [1, 2]\n",
    "majorityElement(nums)"
   ]
  }
 ],
 "metadata": {
  "kernelspec": {
   "display_name": "Python 3",
   "language": "python",
   "name": "python3"
  },
  "language_info": {
   "codemirror_mode": {
    "name": "ipython",
    "version": 3
   },
   "file_extension": ".py",
   "mimetype": "text/x-python",
   "name": "python",
   "nbconvert_exporter": "python",
   "pygments_lexer": "ipython3",
   "version": "3.12.7"
  }
 },
 "nbformat": 4,
 "nbformat_minor": 2
}
