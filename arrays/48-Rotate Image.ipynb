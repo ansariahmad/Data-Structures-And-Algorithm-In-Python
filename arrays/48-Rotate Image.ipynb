{
 "cells": [
  {
   "cell_type": "markdown",
   "metadata": {},
   "source": [
    "## 48 Rotate Image"
   ]
  },
  {
   "cell_type": "markdown",
   "metadata": {},
   "source": [
    "### Brute Force Approach\n",
    "Time Complexity: $$O(N^2)$$\n",
    "Space Complexity: $$O(N^2)$$"
   ]
  },
  {
   "cell_type": "code",
   "execution_count": 32,
   "metadata": {},
   "outputs": [],
   "source": [
    "import numpy as np\n",
    "def display_matrix(matrix):\n",
    "    print(np.matrix(matrix))"
   ]
  },
  {
   "cell_type": "code",
   "execution_count": 33,
   "metadata": {},
   "outputs": [],
   "source": [
    "def rotate(matrix: list[list[int]]) -> None:\n",
    "    temp_matrix = [[0]*len(matrix[0]) for idx in range(0, len(matrix))]\n",
    "    n = len(matrix[0])\n",
    "    \n",
    "    for rowIdx in range(0, len(matrix)):\n",
    "        for colIdx in range(0, len(matrix[0])):\n",
    "            temp_matrix[colIdx][n-rowIdx-1] = matrix[rowIdx][colIdx]\n",
    "    return temp_matrix"
   ]
  },
  {
   "cell_type": "code",
   "execution_count": 34,
   "metadata": {},
   "outputs": [
    {
     "name": "stdout",
     "output_type": "stream",
     "text": [
      "[[1 2 3]\n",
      " [4 5 6]\n",
      " [7 8 9]]\n",
      "\n",
      "[[7 4 1]\n",
      " [8 5 2]\n",
      " [9 6 3]]\n"
     ]
    }
   ],
   "source": [
    "matrix = [[1,2,3],[4,5,6],[7,8,9]]\n",
    "display_matrix(matrix)\n",
    "output = rotate(matrix)\n",
    "print()\n",
    "display_matrix(output)"
   ]
  },
  {
   "cell_type": "markdown",
   "metadata": {},
   "source": [
    "### Optimal Solution\n",
    "\n",
    "1. Take transpose of matrix\n",
    "2. Reverse every row inside the matrix."
   ]
  },
  {
   "cell_type": "code",
   "execution_count": 35,
   "metadata": {},
   "outputs": [],
   "source": [
    "def rotate(matrix: list[list[int]]) -> None:\n",
    "    # transpose of matrix\n",
    "    for rowIdx in range(0, len(matrix)):\n",
    "        for colIdx in range(rowIdx, len(matrix[0])):\n",
    "            temp = matrix[rowIdx][colIdx]\n",
    "            matrix[rowIdx][colIdx] = matrix[colIdx][rowIdx]\n",
    "            matrix[colIdx][rowIdx] = temp\n",
    "    \n",
    "    for listIdx in range(0, len(matrix)):\n",
    "        matrix[listIdx][:] = matrix[listIdx][::-1] "
   ]
  },
  {
   "cell_type": "code",
   "execution_count": 36,
   "metadata": {},
   "outputs": [
    {
     "name": "stdout",
     "output_type": "stream",
     "text": [
      "[[1 2 3]\n",
      " [4 5 6]\n",
      " [7 8 9]]\n",
      "\n",
      "[[7 4 1]\n",
      " [8 5 2]\n",
      " [9 6 3]]\n"
     ]
    }
   ],
   "source": [
    "matrix = [[1,2,3],[4,5,6],[7,8,9]]\n",
    "display_matrix(matrix)\n",
    "rotate(matrix)\n",
    "print()\n",
    "display_matrix(matrix)"
   ]
  }
 ],
 "metadata": {
  "kernelspec": {
   "display_name": "Python 3",
   "language": "python",
   "name": "python3"
  },
  "language_info": {
   "codemirror_mode": {
    "name": "ipython",
    "version": 3
   },
   "file_extension": ".py",
   "mimetype": "text/x-python",
   "name": "python",
   "nbconvert_exporter": "python",
   "pygments_lexer": "ipython3",
   "version": "3.12.7"
  }
 },
 "nbformat": 4,
 "nbformat_minor": 2
}
