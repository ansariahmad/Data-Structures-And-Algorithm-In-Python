{
 "cells": [
  {
   "cell_type": "markdown",
   "metadata": {},
   "source": [
    "### 485. Max Consecutive Ones"
   ]
  },
  {
   "cell_type": "code",
   "execution_count": 8,
   "metadata": {},
   "outputs": [
    {
     "name": "stdout",
     "output_type": "stream",
     "text": [
      "Max Ones: 4\n"
     ]
    }
   ],
   "source": [
    "nums = [1,1,0,1,1,1, 0, 0, 1, 1, 1, 1]\n",
    "ones = 0\n",
    "max_ones = 0\n",
    "\n",
    "for ind in range(0, len(nums)):\n",
    "    if nums[ind] == 1:\n",
    "        ones += 1\n",
    "        max_ones = max(ones, max_ones)\n",
    "    else:\n",
    "        ones = 0\n",
    "\n",
    "print(f\"Max Ones: {max_ones}\")"
   ]
  },
  {
   "cell_type": "code",
   "execution_count": null,
   "metadata": {},
   "outputs": [],
   "source": []
  }
 ],
 "metadata": {
  "kernelspec": {
   "display_name": "Python 3",
   "language": "python",
   "name": "python3"
  },
  "language_info": {
   "codemirror_mode": {
    "name": "ipython",
    "version": 3
   },
   "file_extension": ".py",
   "mimetype": "text/x-python",
   "name": "python",
   "nbconvert_exporter": "python",
   "pygments_lexer": "ipython3",
   "version": "3.12.7"
  }
 },
 "nbformat": 4,
 "nbformat_minor": 2
}
