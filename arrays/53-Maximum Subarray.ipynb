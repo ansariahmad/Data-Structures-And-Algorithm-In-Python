{
 "cells": [
  {
   "cell_type": "markdown",
   "metadata": {},
   "source": [
    "## 53 Maximum Subarray"
   ]
  },
  {
   "cell_type": "code",
   "execution_count": 7,
   "metadata": {},
   "outputs": [],
   "source": [
    "def maxSubArray(nums: list[int]) -> int:\n",
    "    MAX = float('-inf')\n",
    "    res = 0\n",
    "\n",
    "    for i in range(0, len(nums)):\n",
    "        res += nums[i]\n",
    "        if res > MAX:\n",
    "            MAX = res\n",
    "        if res < 0:\n",
    "            res = 0\n",
    "    \n",
    "    return MAX"
   ]
  },
  {
   "cell_type": "code",
   "execution_count": 9,
   "metadata": {},
   "outputs": [
    {
     "data": {
      "text/plain": [
       "14"
      ]
     },
     "execution_count": 9,
     "metadata": {},
     "output_type": "execute_result"
    }
   ],
   "source": [
    "nums = [-2,1,-3,4,-1,2,8, 1,-5,4]\n",
    "maxSubArray(nums)"
   ]
  },
  {
   "cell_type": "markdown",
   "metadata": {},
   "source": [
    "## Follow Up Question\n",
    "### Print the subarray with maximum sum"
   ]
  },
  {
   "cell_type": "code",
   "execution_count": 12,
   "metadata": {},
   "outputs": [],
   "source": [
    "def printMaxSubArray(nums: list[int]) -> int:\n",
    "    MAX = float('-inf')\n",
    "    res =  startIndex = endIndex = 0\n",
    "    for i in range(0, len(nums)):\n",
    "        if res == 0:\n",
    "            startIndex = i\n",
    "        res += nums[i]\n",
    "        if res > MAX:\n",
    "            endIndex = i\n",
    "            MAX = res\n",
    "        if res < 0:\n",
    "            res = 0\n",
    "    \n",
    "    return nums[startIndex:endIndex+1]"
   ]
  },
  {
   "cell_type": "code",
   "execution_count": 13,
   "metadata": {},
   "outputs": [
    {
     "data": {
      "text/plain": [
       "[4, -1, 2, 8, 1]"
      ]
     },
     "execution_count": 13,
     "metadata": {},
     "output_type": "execute_result"
    }
   ],
   "source": [
    "nums = [-2,1,-3,4,-1,2,8, 1,-5,4]\n",
    "printMaxSubArray(nums)"
   ]
  }
 ],
 "metadata": {
  "kernelspec": {
   "display_name": "Python 3",
   "language": "python",
   "name": "python3"
  },
  "language_info": {
   "codemirror_mode": {
    "name": "ipython",
    "version": 3
   },
   "file_extension": ".py",
   "mimetype": "text/x-python",
   "name": "python",
   "nbconvert_exporter": "python",
   "pygments_lexer": "ipython3",
   "version": "3.12.7"
  }
 },
 "nbformat": 4,
 "nbformat_minor": 2
}
