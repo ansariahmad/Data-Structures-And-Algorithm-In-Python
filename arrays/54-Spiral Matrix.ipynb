{
 "cells": [
  {
   "cell_type": "markdown",
   "metadata": {},
   "source": [
    "## 54 Spiral Matrix"
   ]
  },
  {
   "cell_type": "code",
   "execution_count": 2,
   "metadata": {},
   "outputs": [],
   "source": [
    "import numpy as np\n",
    "def display_matrix(matrix):\n",
    "    print(np.matrix(matrix))"
   ]
  },
  {
   "cell_type": "code",
   "execution_count": 59,
   "metadata": {},
   "outputs": [],
   "source": [
    "def spiralOrder(matrix: list[list[int]]) -> None:\n",
    "    top_row = left_col = 0\n",
    "    bottom_row = len(matrix)-1\n",
    "    right_col = len(matrix[0])-1\n",
    "    print(top_row, bottom_row, left_col, right_col)\n",
    "\n",
    "    for rowIdx in range(0, bottom_row//2+1):\n",
    "        for colIdx in range(left_col, right_col+1):\n",
    "            print(matrix[rowIdx][colIdx], end=\"-\")\n",
    "        \n",
    "        for rowIdx2 in range(rowIdx+1, bottom_row+1):\n",
    "            print(matrix[rowIdx2][right_col], end=\"-\")\n",
    "        for colIdx in range(right_col-1, left_col-1, -1):\n",
    "            print(matrix[bottom_row][colIdx], end=\"-\")\n",
    "        for rowIdx2 in range(bottom_row-1, rowIdx, -1):\n",
    "            print(matrix[rowIdx2][left_col], end=\"-\")\n",
    "        bottom_row -= 1\n",
    "        left_col += 1\n",
    "        right_col -= 1\n",
    "        # break"
   ]
  },
  {
   "cell_type": "code",
   "execution_count": 60,
   "metadata": {},
   "outputs": [
    {
     "name": "stdout",
     "output_type": "stream",
     "text": [
      "[[ 1  2  3  4]\n",
      " [ 5  6  7  8]\n",
      " [ 9 10 11 12]]\n",
      "0 2 0 3\n",
      "1-2-3-4-8-12-11-10-9-5-6-7-6-"
     ]
    }
   ],
   "source": [
    "matrix = [[1,2,3,4],[5,6,7,8],[9,10,11,12]]\n",
    "display_matrix(matrix)\n",
    "spiralOrder(matrix)"
   ]
  },
  {
   "cell_type": "code",
   "execution_count": 38,
   "metadata": {},
   "outputs": [
    {
     "data": {
      "text/plain": [
       "[10, 9, 8, 7, 6, 5, 4, 3, 2, 1, 0]"
      ]
     },
     "execution_count": 38,
     "metadata": {},
     "output_type": "execute_result"
    }
   ],
   "source": [
    "[i for i in range(10, -1, -1)]"
   ]
  }
 ],
 "metadata": {
  "kernelspec": {
   "display_name": "Python 3",
   "language": "python",
   "name": "python3"
  },
  "language_info": {
   "codemirror_mode": {
    "name": "ipython",
    "version": 3
   },
   "file_extension": ".py",
   "mimetype": "text/x-python",
   "name": "python",
   "nbconvert_exporter": "python",
   "pygments_lexer": "ipython3",
   "version": "3.12.7"
  }
 },
 "nbformat": 4,
 "nbformat_minor": 2
}
