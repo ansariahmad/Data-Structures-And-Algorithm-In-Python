{
 "cells": [
  {
   "cell_type": "markdown",
   "metadata": {},
   "source": [
    "## 56 Merge Intervals"
   ]
  },
  {
   "cell_type": "code",
   "execution_count": 2,
   "metadata": {},
   "outputs": [],
   "source": [
    "def merge(intervals: list[list[int]]) -> list[list[int]]:\n",
    "    output_list = []\n",
    "    intervals.sort()\n",
    "    start = intervals[0][0]\n",
    "    end = intervals[0][-1]\n",
    "    idx = 1\n",
    "    while idx <= len(intervals)-1:\n",
    "        if end >= intervals[idx][0]:\n",
    "            end = max(end, intervals[idx][-1])\n",
    "        else:\n",
    "            output_list.append([start, end])\n",
    "            start = intervals[idx][0]\n",
    "            end = intervals[idx][-1]\n",
    "        idx += 1\n",
    "    \n",
    "    output_list.append([start, end])\n",
    "    return output_list"
   ]
  },
  {
   "cell_type": "code",
   "execution_count": 3,
   "metadata": {},
   "outputs": [
    {
     "data": {
      "text/plain": [
       "[[1, 9], [10, 11], [15, 18]]"
      ]
     },
     "execution_count": 3,
     "metadata": {},
     "output_type": "execute_result"
    }
   ],
   "source": [
    "intervals = [[1,3],[2,9],[3,8],[10,11],[15,18]]\n",
    "merge(intervals)"
   ]
  },
  {
   "cell_type": "code",
   "execution_count": null,
   "metadata": {},
   "outputs": [],
   "source": []
  }
 ],
 "metadata": {
  "kernelspec": {
   "display_name": "Python 3",
   "language": "python",
   "name": "python3"
  },
  "language_info": {
   "codemirror_mode": {
    "name": "ipython",
    "version": 3
   },
   "file_extension": ".py",
   "mimetype": "text/x-python",
   "name": "python",
   "nbconvert_exporter": "python",
   "pygments_lexer": "ipython3",
   "version": "3.12.7"
  }
 },
 "nbformat": 4,
 "nbformat_minor": 2
}
