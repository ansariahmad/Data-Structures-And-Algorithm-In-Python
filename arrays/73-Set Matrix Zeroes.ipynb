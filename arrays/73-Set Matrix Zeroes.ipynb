{
 "cells": [
  {
   "cell_type": "markdown",
   "metadata": {},
   "source": [
    "## 73 Set Matrix Zeroes"
   ]
  },
  {
   "cell_type": "code",
   "execution_count": 20,
   "metadata": {},
   "outputs": [],
   "source": [
    "import numpy as np\n",
    "def display_matrix(matrix: list[list[int]]) -> None:\n",
    "    print(np.matrix(matrix))"
   ]
  },
  {
   "cell_type": "code",
   "execution_count": 16,
   "metadata": {},
   "outputs": [],
   "source": [
    "# brute force solution\n",
    "def setZeroes(matrix: list[list[int]]) -> None:\n",
    "    \"\"\"\n",
    "    Do not return anything, modify matrix in-place instead.\n",
    "    \"\"\"\n",
    "    n = len(matrix)     # no of rows\n",
    "    m = len(matrix[0])  # no of cols\n",
    "    rows = [0]*n\n",
    "    cols = [0]*m\n",
    "\n",
    "    for row in range(0, len(matrix)):\n",
    "        for col in range(0, len(matrix[row])):\n",
    "            if matrix[row][col] == 0:\n",
    "                rows[row] = 1\n",
    "                cols[col] = 1\n",
    "\n",
    "    for rowIdx in range(0, len(rows)):\n",
    "        for colIdx in range(0, len(cols)):\n",
    "            if (rows[rowIdx] == 1) and (cols[colIdx] == 1):\n",
    "                for col in range(0, m):\n",
    "                    matrix[rowIdx][col] = 0\n",
    "                for row in range(0, n):\n",
    "                    matrix[row][colIdx] = 0                        "
   ]
  },
  {
   "cell_type": "code",
   "execution_count": 23,
   "metadata": {},
   "outputs": [
    {
     "name": "stdout",
     "output_type": "stream",
     "text": [
      "[[1 1 1]\n",
      " [1 0 1]\n",
      " [1 1 1]]\n",
      "\n",
      "[[1 0 1]\n",
      " [0 0 0]\n",
      " [1 0 1]]\n"
     ]
    }
   ],
   "source": [
    "matrix = [[1,1,1],[1,0,1],[1,1,1]]\n",
    "display_matrix(matrix)\n",
    "print()\n",
    "setZeroes(matrix)\n",
    "print(np.matrix(matrix))"
   ]
  },
  {
   "cell_type": "code",
   "execution_count": 60,
   "metadata": {},
   "outputs": [],
   "source": [
    "# optimal solution\n",
    "def setZeroes(matrix) -> None:\n",
    "    n = len(matrix)     # no. of rows\n",
    "    m = len(matrix[0])  # no. of cols\n",
    "    extra = 1\n",
    "    for row in range(0, n):\n",
    "        for col in range(0, m):\n",
    "            if matrix[row][col] == 0:\n",
    "                if (col == 0):\n",
    "                    extra = 0\n",
    "                else:\n",
    "                    matrix[0][col] = 0\n",
    "                    matrix[row][0] = 0\n",
    "\n",
    "\n",
    "    print()\n",
    "    display_matrix(matrix)\n",
    "    print()\n",
    "\n",
    "    for row in range(1, n):\n",
    "        for col in range(1, m):\n",
    "            if (matrix[0][col] == 0) or (matrix[row][0] == 0):\n",
    "                matrix[row][col] = 0\n",
    "    \n",
    "    if matrix[0][0] == 0:\n",
    "        for col in range(0, m):\n",
    "            matrix[0][col] == 0\n",
    "    if extra == 0:\n",
    "        for row in range(0, n):\n",
    "            matrix[row][0] = 0\n"
   ]
  },
  {
   "cell_type": "code",
   "execution_count": 61,
   "metadata": {},
   "outputs": [
    {
     "name": "stdout",
     "output_type": "stream",
     "text": [
      "[[1 1 1]\n",
      " [0 1 1]\n",
      " [1 1 1]]\n",
      "\n",
      "extra:  0\n",
      "\n",
      "[[1 1 1]\n",
      " [0 1 1]\n",
      " [1 1 1]]\n",
      "\n",
      "[[0 1 1]\n",
      " [0 0 0]\n",
      " [0 1 1]]\n"
     ]
    }
   ],
   "source": [
    "matrix =[[1,1,1],[0,1,1],[1,1,1]]\n",
    "display_matrix(matrix)\n",
    "print()\n",
    "setZeroes(matrix)\n",
    "print(np.matrix(matrix))"
   ]
  },
  {
   "cell_type": "code",
   "execution_count": null,
   "metadata": {},
   "outputs": [],
   "source": []
  }
 ],
 "metadata": {
  "kernelspec": {
   "display_name": "Python 3",
   "language": "python",
   "name": "python3"
  },
  "language_info": {
   "codemirror_mode": {
    "name": "ipython",
    "version": 3
   },
   "file_extension": ".py",
   "mimetype": "text/x-python",
   "name": "python",
   "nbconvert_exporter": "python",
   "pygments_lexer": "ipython3",
   "version": "3.12.7"
  }
 },
 "nbformat": 4,
 "nbformat_minor": 2
}
