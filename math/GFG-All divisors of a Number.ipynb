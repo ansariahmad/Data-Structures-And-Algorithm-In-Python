{
 "cells": [
  {
   "cell_type": "markdown",
   "id": "08772c7c",
   "metadata": {},
   "source": [
    "# All divisors of a Number"
   ]
  },
  {
   "cell_type": "code",
   "execution_count": 3,
   "id": "2b068c06",
   "metadata": {},
   "outputs": [],
   "source": [
    "def print_divisors(N):\n",
    "    # code here\n",
    "    divisor = set()\n",
    "    for i in range(1, int(N**0.5)+1):\n",
    "        if N % i == 0:\n",
    "            divisor.add(i)\n",
    "            divisor.add(N//i)\n",
    "    for i in sorted(list(divisor)):\n",
    "        print(i, end=\" \")"
   ]
  },
  {
   "cell_type": "code",
   "execution_count": 4,
   "id": "ffe71a0f",
   "metadata": {},
   "outputs": [
    {
     "name": "stdout",
     "output_type": "stream",
     "text": [
      "1 2 5 10 "
     ]
    }
   ],
   "source": [
    "print_divisors(10)"
   ]
  },
  {
   "cell_type": "code",
   "execution_count": null,
   "id": "0f2b8c25",
   "metadata": {},
   "outputs": [],
   "source": []
  }
 ],
 "metadata": {
  "kernelspec": {
   "display_name": "dsa",
   "language": "python",
   "name": "python3"
  },
  "language_info": {
   "codemirror_mode": {
    "name": "ipython",
    "version": 3
   },
   "file_extension": ".py",
   "mimetype": "text/x-python",
   "name": "python",
   "nbconvert_exporter": "python",
   "pygments_lexer": "ipython3",
   "version": "3.10.16"
  }
 },
 "nbformat": 4,
 "nbformat_minor": 5
}
