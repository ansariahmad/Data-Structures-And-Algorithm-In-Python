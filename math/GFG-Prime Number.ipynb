{
 "cells": [
  {
   "cell_type": "markdown",
   "id": "ff60df13",
   "metadata": {},
   "source": [
    "# Prime Number"
   ]
  },
  {
   "cell_type": "code",
   "execution_count": 4,
   "id": "10c25ec0",
   "metadata": {},
   "outputs": [],
   "source": [
    "def isPrime(n):\n",
    "    # code here\n",
    "    counter = 0\n",
    "\n",
    "    for i in range(1, int((n**0.5)+1)):\n",
    "        if n%i == 0:\n",
    "            counter += 1\n",
    "            if n//i != i:\n",
    "                counter += 1\n",
    "    return counter == 2"
   ]
  },
  {
   "cell_type": "code",
   "execution_count": 5,
   "id": "f5ae11a0",
   "metadata": {},
   "outputs": [
    {
     "data": {
      "text/plain": [
       "True"
      ]
     },
     "execution_count": 5,
     "metadata": {},
     "output_type": "execute_result"
    }
   ],
   "source": [
    "isPrime(13)"
   ]
  },
  {
   "cell_type": "code",
   "execution_count": 6,
   "id": "b52830da",
   "metadata": {},
   "outputs": [
    {
     "data": {
      "text/plain": [
       "False"
      ]
     },
     "execution_count": 6,
     "metadata": {},
     "output_type": "execute_result"
    }
   ],
   "source": [
    "isPrime(100)"
   ]
  },
  {
   "cell_type": "code",
   "execution_count": null,
   "id": "2fb3e55b",
   "metadata": {},
   "outputs": [],
   "source": []
  }
 ],
 "metadata": {
  "kernelspec": {
   "display_name": "dsa",
   "language": "python",
   "name": "python3"
  },
  "language_info": {
   "codemirror_mode": {
    "name": "ipython",
    "version": 3
   },
   "file_extension": ".py",
   "mimetype": "text/x-python",
   "name": "python",
   "nbconvert_exporter": "python",
   "pygments_lexer": "ipython3",
   "version": "3.10.16"
  }
 },
 "nbformat": 4,
 "nbformat_minor": 5
}
