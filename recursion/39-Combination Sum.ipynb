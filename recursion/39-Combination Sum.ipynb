{
 "cells": [
  {
   "cell_type": "markdown",
   "metadata": {},
   "source": [
    "## 39 Combination Sum"
   ]
  },
  {
   "cell_type": "code",
   "execution_count": 24,
   "metadata": {},
   "outputs": [],
   "source": [
    "output = []\n",
    "def combinationSum(arr: list[int], temp: list[int], idx: int, target: int):\n",
    "    global output\n",
    "    if (idx >= len(arr)) or (target < 0):\n",
    "        return\n",
    "    if target == 0:\n",
    "        print(temp)\n",
    "        output.append(temp)\n",
    "        return\n",
    "    \n",
    "    temp.append(arr[idx])\n",
    "    target -= arr[idx]\n",
    "    combinationSum(arr, temp, idx, target)\n",
    "\n",
    "    target += temp.pop()\n",
    "    combinationSum(arr, temp, idx+1, target)"
   ]
  },
  {
   "cell_type": "code",
   "execution_count": 25,
   "metadata": {},
   "outputs": [
    {
     "name": "stdout",
     "output_type": "stream",
     "text": [
      "[1, 1, 1]\n",
      "[1, 2]\n",
      "[3]\n"
     ]
    }
   ],
   "source": [
    "nums = [1, 2, 3]\n",
    "combinationSum(nums, [], 0, 3)"
   ]
  },
  {
   "cell_type": "code",
   "execution_count": null,
   "metadata": {},
   "outputs": [],
   "source": []
  }
 ],
 "metadata": {
  "kernelspec": {
   "display_name": "Python 3",
   "language": "python",
   "name": "python3"
  },
  "language_info": {
   "codemirror_mode": {
    "name": "ipython",
    "version": 3
   },
   "file_extension": ".py",
   "mimetype": "text/x-python",
   "name": "python",
   "nbconvert_exporter": "python",
   "pygments_lexer": "ipython3",
   "version": "3.12.7"
  }
 },
 "nbformat": 4,
 "nbformat_minor": 2
}
