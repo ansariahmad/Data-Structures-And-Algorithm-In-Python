{
 "cells": [
  {
   "cell_type": "markdown",
   "metadata": {},
   "source": [
    "## 40 Combination Sum II"
   ]
  },
  {
   "cell_type": "code",
   "execution_count": 6,
   "metadata": {},
   "outputs": [],
   "source": [
    "def combinationSum2(candidates: list[int], temp_arr: list[int], target:int, idx:int) -> None:\n",
    "    if target == 0:\n",
    "        print(temp_arr)\n",
    "        return\n",
    "    if (target < 0) or (idx >= len(candidates)):\n",
    "        return\n",
    "    \n",
    "    prev = -1\n",
    "    for i in range(idx, len(candidates)):\n",
    "        if candidates[i] == prev:\n",
    "            continue\n",
    "        temp_arr.append(candidates[i])\n",
    "        target -= candidates[i]\n",
    "        combinationSum2(candidates, temp_arr, target, i+1)\n",
    "        temp_arr.pop()\n",
    "        target += candidates[i]\n",
    "        prev = candidates[i]"
   ]
  },
  {
   "cell_type": "code",
   "execution_count": 7,
   "metadata": {},
   "outputs": [
    {
     "name": "stdout",
     "output_type": "stream",
     "text": [
      "[1, 1, 6]\n",
      "[1, 2, 5]\n",
      "[1, 7]\n",
      "[2, 6]\n"
     ]
    }
   ],
   "source": [
    "candidates = [10,1,2,7,6,1,5]\n",
    "candidates.sort()\n",
    "target = 8\n",
    "combinationSum2(candidates, [], target, 0)"
   ]
  },
  {
   "cell_type": "code",
   "execution_count": null,
   "metadata": {},
   "outputs": [],
   "source": []
  }
 ],
 "metadata": {
  "kernelspec": {
   "display_name": "Python 3",
   "language": "python",
   "name": "python3"
  },
  "language_info": {
   "codemirror_mode": {
    "name": "ipython",
    "version": 3
   },
   "file_extension": ".py",
   "mimetype": "text/x-python",
   "name": "python",
   "nbconvert_exporter": "python",
   "pygments_lexer": "ipython3",
   "version": "3.12.7"
  }
 },
 "nbformat": 4,
 "nbformat_minor": 2
}
