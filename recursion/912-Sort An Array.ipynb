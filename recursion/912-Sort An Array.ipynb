{
 "cells": [
  {
   "cell_type": "markdown",
   "id": "e97c9419",
   "metadata": {},
   "source": [
    "# 912 Sort An Array"
   ]
  },
  {
   "cell_type": "code",
   "execution_count": null,
   "id": "e4415501",
   "metadata": {},
   "outputs": [],
   "source": [
    "def mergeArray(nums1:list[int], nums2:list[int]) -> list[int]:\n",
    "    temp = list()\n",
    "    idx1 = idx2 = 0\n",
    "    while (idx1 <= len(nums1)-1) and (idx2 <= len(nums2)-1):\n",
    "        if nums1[idx1] <= nums2[idx2]:\n",
    "            temp.append(nums1[idx1])\n",
    "            idx1 += 1\n",
    "        else:\n",
    "            temp.append(nums2[idx2])\n",
    "            idx2 += 1\n",
    "    if idx1 >= len(nums1):\n",
    "        temp.extend(nums2[idx2:])\n",
    "    else:\n",
    "        temp.extend(nums1[idx1:])\n",
    "    \n",
    "    return temp"
   ]
  },
  {
   "cell_type": "code",
   "execution_count": 84,
   "id": "776636dd",
   "metadata": {},
   "outputs": [],
   "source": [
    "def sortArray(nums:list[int], low:int, high:int) -> list[int]:\n",
    "    if low >= high:\n",
    "        return [nums[low]]\n",
    "\n",
    "    mid = (low+high)//2\n",
    "    left = sortArray(nums, low, mid)\n",
    "    right = sortArray(nums, mid+1, high)\n",
    "    return mergeArray(left, right)\n",
    "    "
   ]
  },
  {
   "cell_type": "code",
   "execution_count": 85,
   "id": "a5cdf87e",
   "metadata": {},
   "outputs": [
    {
     "data": {
      "text/plain": [
       "[0, 0, 1, 1, 2, 5]"
      ]
     },
     "execution_count": 85,
     "metadata": {},
     "output_type": "execute_result"
    }
   ],
   "source": [
    "nums = [5,1,1,2,0,0]\n",
    "sortArray(nums, 0, len(nums)-1)"
   ]
  },
  {
   "cell_type": "code",
   "execution_count": null,
   "id": "0435ad4d",
   "metadata": {},
   "outputs": [],
   "source": []
  }
 ],
 "metadata": {
  "kernelspec": {
   "display_name": "base",
   "language": "python",
   "name": "python3"
  },
  "language_info": {
   "codemirror_mode": {
    "name": "ipython",
    "version": 3
   },
   "file_extension": ".py",
   "mimetype": "text/x-python",
   "name": "python",
   "nbconvert_exporter": "python",
   "pygments_lexer": "ipython3",
   "version": "3.12.7"
  }
 },
 "nbformat": 4,
 "nbformat_minor": 5
}
