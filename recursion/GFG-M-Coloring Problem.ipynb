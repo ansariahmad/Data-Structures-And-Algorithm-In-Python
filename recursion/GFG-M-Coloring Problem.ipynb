{
 "cells": [
  {
   "cell_type": "markdown",
   "id": "b1c1d229",
   "metadata": {},
   "source": [
    "# M-Coloring Problem"
   ]
  },
  {
   "cell_type": "code",
   "execution_count": 13,
   "id": "e65d9926",
   "metadata": {},
   "outputs": [],
   "source": [
    "V = 4; m = 3"
   ]
  },
  {
   "cell_type": "code",
   "execution_count": 27,
   "id": "02660929",
   "metadata": {},
   "outputs": [],
   "source": [
    "def possible2color(node, color, node2node, colorDict):\n",
    "    adjacent_nodes = node2node[node]\n",
    "    for adjacent_node in adjacent_nodes:\n",
    "        if colorDict[adjacent_node] == color:\n",
    "            return False\n",
    "    return True"
   ]
  },
  {
   "cell_type": "code",
   "execution_count": null,
   "id": "ca50a08d",
   "metadata": {},
   "outputs": [],
   "source": [
    "def graphColoring(node, node2node, colorDict):\n",
    "    # print(node)\n",
    "    if node == V:\n",
    "        print(colorDict)\n",
    "        return True\n",
    "    for color in range(1, m+1):\n",
    "        if possible2color(node, color, node2node, colorDict):\n",
    "            colorDict[node] = color\n",
    "            if graphColoring(node+1, node2node, colorDict):\n",
    "                # print(colorDict)\n",
    "                return True\n",
    "            colorDict[node] = 0\n",
    "    return False"
   ]
  },
  {
   "cell_type": "code",
   "execution_count": null,
   "id": "d3dc8fb7",
   "metadata": {},
   "outputs": [
    {
     "name": "stdout",
     "output_type": "stream",
     "text": [
      "{0: [2], 2: [0], 1: [1]}\n",
      "{0: 0, 1: 0, 2: 0}\n"
     ]
    }
   ],
   "source": [
    "V = 3; m = 1\n",
    "edges = [[0, 2]]\n",
    "\n",
    "node2node = dict()\n",
    "for edge in edges:\n",
    "    if edge[0] not in node2node:\n",
    "        node2node[edge[0]] = [edge[1]]\n",
    "    else:\n",
    "        node2node[edge[0]].append(edge[1])\n",
    "    if edge[1] not in node2node:\n",
    "        node2node[edge[1]] = [edge[0]]\n",
    "    else:\n",
    "        node2node[edge[1]].append(edge[0])\n",
    "\n",
    "# to deal any node that is not connected.\n",
    "for vertex in range(V):\n",
    "    if vertex not in node2node:\n",
    "        node2node[vertex] = [vertex]\n",
    "\n",
    "colorDict = {node:0 for node in range(V)}\n",
    "print(node2node)\n",
    "print(colorDict)"
   ]
  },
  {
   "cell_type": "code",
   "execution_count": 63,
   "id": "f20fc1ae",
   "metadata": {},
   "outputs": [
    {
     "name": "stdout",
     "output_type": "stream",
     "text": [
      "0\n",
      "1\n",
      "2\n"
     ]
    },
    {
     "data": {
      "text/plain": [
       "False"
      ]
     },
     "execution_count": 63,
     "metadata": {},
     "output_type": "execute_result"
    }
   ],
   "source": [
    "graphColoring(0, node2node, colorDict)"
   ]
  },
  {
   "cell_type": "code",
   "execution_count": 46,
   "id": "c36ec372",
   "metadata": {},
   "outputs": [
    {
     "data": {
      "text/plain": [
       "True"
      ]
     },
     "execution_count": 46,
     "metadata": {},
     "output_type": "execute_result"
    }
   ],
   "source": [
    "possible2color(3, 0, node2node, colorDict)"
   ]
  },
  {
   "cell_type": "code",
   "execution_count": null,
   "id": "968ec570",
   "metadata": {},
   "outputs": [],
   "source": []
  }
 ],
 "metadata": {
  "kernelspec": {
   "display_name": "dsa",
   "language": "python",
   "name": "python3"
  },
  "language_info": {
   "codemirror_mode": {
    "name": "ipython",
    "version": 3
   },
   "file_extension": ".py",
   "mimetype": "text/x-python",
   "name": "python",
   "nbconvert_exporter": "python",
   "pygments_lexer": "ipython3",
   "version": "3.10.16"
  }
 },
 "nbformat": 4,
 "nbformat_minor": 5
}
