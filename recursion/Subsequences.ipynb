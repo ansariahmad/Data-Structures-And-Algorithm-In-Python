{
 "cells": [
  {
   "cell_type": "markdown",
   "metadata": {},
   "source": [
    "## Print All Subsequences of An Array"
   ]
  },
  {
   "cell_type": "code",
   "execution_count": 13,
   "metadata": {},
   "outputs": [],
   "source": [
    "def all_subsequences(arr: list[int], temp: list[int], idx: int) -> None:\n",
    "    if idx == len(arr):\n",
    "        print(temp)\n",
    "        return\n",
    "    temp.append(arr[idx])\n",
    "    all_subsequences(arr, temp, idx+1)\n",
    "    temp.pop()\n",
    "    all_subsequences(arr, temp, idx+1)"
   ]
  },
  {
   "cell_type": "code",
   "execution_count": 14,
   "metadata": {},
   "outputs": [
    {
     "name": "stdout",
     "output_type": "stream",
     "text": [
      "[3, 2, 1]\n",
      "[3, 2]\n",
      "[3, 1]\n",
      "[3]\n",
      "[2, 1]\n",
      "[2]\n",
      "[1]\n",
      "[]\n"
     ]
    }
   ],
   "source": [
    "nums = [3, 2, 1]\n",
    "all_subsequences(nums, [], 0)"
   ]
  },
  {
   "cell_type": "markdown",
   "metadata": {},
   "source": [
    "## Subsequences which form a particular sum"
   ]
  },
  {
   "cell_type": "code",
   "execution_count": 3,
   "metadata": {},
   "outputs": [],
   "source": [
    "def noSubsequences(arr: list[int], temp: list[int], idx:int, res:int, reqRes: int) -> list[int]:\n",
    "    if idx >= len(arr):\n",
    "        if res == reqRes:\n",
    "            print(temp)\n",
    "        return\n",
    "    temp.append(arr[idx])\n",
    "    res += arr[idx]\n",
    "    noSubsequences(arr, temp, idx+1, res, reqRes)\n",
    "    res -= temp.pop()\n",
    "    noSubsequences(arr, temp, idx+1, res, reqRes)"
   ]
  },
  {
   "cell_type": "code",
   "execution_count": 9,
   "metadata": {},
   "outputs": [
    {
     "name": "stdout",
     "output_type": "stream",
     "text": [
      "[0, 2, 1, 3, -2, -1]\n",
      "[0, 2, 1]\n",
      "[0, 2, 3, -2]\n",
      "[0, 1, 3, -1]\n",
      "[0, 3]\n",
      "[2, 1, 3, -2, -1]\n",
      "[2, 1]\n",
      "[2, 3, -2]\n",
      "[1, 3, -1]\n",
      "[3]\n"
     ]
    }
   ],
   "source": [
    "nums = [0, 2, 1, 3, -2, -1]\n",
    "target = 3\n",
    "noSubsequences(nums, [], 0, 0, 3)"
   ]
  },
  {
   "cell_type": "markdown",
   "metadata": {},
   "source": [
    "## A Subsequence which forms a particular sum"
   ]
  },
  {
   "cell_type": "code",
   "execution_count": 10,
   "metadata": {},
   "outputs": [],
   "source": [
    "def noSubsequences(arr: list[int], temp: list[int], idx:int, res:int, reqRes: int) -> list[int]:\n",
    "    if idx >= len(arr):\n",
    "        if res == reqRes:\n",
    "            print(temp)\n",
    "            return True\n",
    "        return False\n",
    "    temp.append(arr[idx])\n",
    "    res += arr[idx]\n",
    "    if noSubsequences(arr, temp, idx+1, res, reqRes):\n",
    "        return True\n",
    "    res -= temp.pop()\n",
    "    if noSubsequences(arr, temp, idx+1, res, reqRes):\n",
    "        return True\n",
    "    return False"
   ]
  },
  {
   "cell_type": "code",
   "execution_count": 16,
   "metadata": {},
   "outputs": [
    {
     "data": {
      "text/plain": [
       "False"
      ]
     },
     "execution_count": 16,
     "metadata": {},
     "output_type": "execute_result"
    }
   ],
   "source": [
    "nums = [-1]\n",
    "target = 3\n",
    "noSubsequences(nums, [], 0, 0, 3)"
   ]
  },
  {
   "cell_type": "markdown",
   "metadata": {},
   "source": [
    "## No. of Subsequences which form a particular sum"
   ]
  },
  {
   "cell_type": "code",
   "execution_count": 17,
   "metadata": {},
   "outputs": [],
   "source": [
    "def noSubsequences(arr: list[int], temp: list[int], idx:int, res:int, reqRes: int) -> list[int]:\n",
    "    if idx >= len(arr):\n",
    "        if res == reqRes:\n",
    "            print(temp)\n",
    "            return 1\n",
    "        return 0\n",
    "    temp.append(arr[idx])\n",
    "    res += arr[idx]\n",
    "    first = noSubsequences(arr, temp, idx+1, res, reqRes)\n",
    "    res -= temp.pop()\n",
    "    second = noSubsequences(arr, temp, idx+1, res, reqRes)\n",
    "    return first + second"
   ]
  },
  {
   "cell_type": "code",
   "execution_count": 26,
   "metadata": {},
   "outputs": [
    {
     "name": "stdout",
     "output_type": "stream",
     "text": [
      "[3, 0]\n",
      "[3]\n",
      "[-4, 7, 0]\n",
      "[-4, 7]\n",
      "[7, -4, 0]\n",
      "[7, -4]\n"
     ]
    },
    {
     "data": {
      "text/plain": [
       "6"
      ]
     },
     "execution_count": 26,
     "metadata": {},
     "output_type": "execute_result"
    }
   ],
   "source": [
    "nums = [-1, 3, -4, 7, -4, 0]\n",
    "target = 3\n",
    "noSubsequences(nums, [], 0, 0, 3)"
   ]
  },
  {
   "cell_type": "code",
   "execution_count": null,
   "metadata": {},
   "outputs": [],
   "source": []
  }
 ],
 "metadata": {
  "kernelspec": {
   "display_name": "Python 3",
   "language": "python",
   "name": "python3"
  },
  "language_info": {
   "codemirror_mode": {
    "name": "ipython",
    "version": 3
   },
   "file_extension": ".py",
   "mimetype": "text/x-python",
   "name": "python",
   "nbconvert_exporter": "python",
   "pygments_lexer": "ipython3",
   "version": "3.12.7"
  }
 },
 "nbformat": 4,
 "nbformat_minor": 2
}
